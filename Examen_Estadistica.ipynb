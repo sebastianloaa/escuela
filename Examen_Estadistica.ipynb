{
  "nbformat": 4,
  "nbformat_minor": 0,
  "metadata": {
    "colab": {
      "provenance": [],
      "authorship_tag": "ABX9TyM/qU9a+R0Mu9PXWWemSJrT",
      "include_colab_link": true
    },
    "kernelspec": {
      "name": "python3",
      "display_name": "Python 3"
    },
    "language_info": {
      "name": "python"
    }
  },
  "cells": [
    {
      "cell_type": "markdown",
      "metadata": {
        "id": "view-in-github",
        "colab_type": "text"
      },
      "source": [
        "<a href=\"https://colab.research.google.com/github/sebastianloaa/escuela/blob/main/Examen_Estadistica.ipynb\" target=\"_parent\"><img src=\"https://colab.research.google.com/assets/colab-badge.svg\" alt=\"Open In Colab\"/></a>"
      ]
    },
    {
      "cell_type": "markdown",
      "source": [
        "Sebastian Lopez Aguilar\n",
        "A01253285"
      ],
      "metadata": {
        "id": "Pmcn6aOMEosn"
      }
    },
    {
      "cell_type": "code",
      "execution_count": 1,
      "metadata": {
        "id": "DxXPr53Cqq9Y"
      },
      "outputs": [],
      "source": [
        "import pandas as pd"
      ]
    },
    {
      "cell_type": "code",
      "source": [
        "df = pd.read_csv(\"FAC2022.csv\")\n",
        "df = pd.DataFrame(df)\n",
        "df"
      ],
      "metadata": {
        "colab": {
          "base_uri": "https://localhost:8080/",
          "height": 424
        },
        "id": "YuiQjCV4rIZZ",
        "outputId": "a20d4d22-6f45-42ef-84de-584b8a66a447"
      },
      "execution_count": 2,
      "outputs": [
        {
          "output_type": "execute_result",
          "data": {
            "text/plain": [
              "           FECHA    CO  NO  NO2  NOX  O3  PM10  SO2\n",
              "0     01/01/2022  0.89  11   39   50   4    97    1\n",
              "1     01/01/2022  0.89  11   38   48   5   107    1\n",
              "2     01/01/2022  0.89  15   37   52   4   127    1\n",
              "3     01/01/2022  1.10  31   39   70   2   120    1\n",
              "4     01/01/2022  0.76   9   34   43   4    89    0\n",
              "...          ...   ...  ..  ...  ...  ..   ...  ...\n",
              "8011  30/11/2022  0.20   3   16   19  20    64    1\n",
              "8012  30/11/2022  0.16   1   13   14  21    52    1\n",
              "8013  30/11/2022  0.16   2   12   14  20    33    1\n",
              "8014  30/11/2022  0.12   1   12   13  19    31    1\n",
              "8015  30/11/2022  0.09   1   10   11  20    13    1\n",
              "\n",
              "[8016 rows x 8 columns]"
            ],
            "text/html": [
              "\n",
              "  <div id=\"df-ecb53682-d393-474e-9f57-b56a173fb1b9\" class=\"colab-df-container\">\n",
              "    <div>\n",
              "<style scoped>\n",
              "    .dataframe tbody tr th:only-of-type {\n",
              "        vertical-align: middle;\n",
              "    }\n",
              "\n",
              "    .dataframe tbody tr th {\n",
              "        vertical-align: top;\n",
              "    }\n",
              "\n",
              "    .dataframe thead th {\n",
              "        text-align: right;\n",
              "    }\n",
              "</style>\n",
              "<table border=\"1\" class=\"dataframe\">\n",
              "  <thead>\n",
              "    <tr style=\"text-align: right;\">\n",
              "      <th></th>\n",
              "      <th>FECHA</th>\n",
              "      <th>CO</th>\n",
              "      <th>NO</th>\n",
              "      <th>NO2</th>\n",
              "      <th>NOX</th>\n",
              "      <th>O3</th>\n",
              "      <th>PM10</th>\n",
              "      <th>SO2</th>\n",
              "    </tr>\n",
              "  </thead>\n",
              "  <tbody>\n",
              "    <tr>\n",
              "      <th>0</th>\n",
              "      <td>01/01/2022</td>\n",
              "      <td>0.89</td>\n",
              "      <td>11</td>\n",
              "      <td>39</td>\n",
              "      <td>50</td>\n",
              "      <td>4</td>\n",
              "      <td>97</td>\n",
              "      <td>1</td>\n",
              "    </tr>\n",
              "    <tr>\n",
              "      <th>1</th>\n",
              "      <td>01/01/2022</td>\n",
              "      <td>0.89</td>\n",
              "      <td>11</td>\n",
              "      <td>38</td>\n",
              "      <td>48</td>\n",
              "      <td>5</td>\n",
              "      <td>107</td>\n",
              "      <td>1</td>\n",
              "    </tr>\n",
              "    <tr>\n",
              "      <th>2</th>\n",
              "      <td>01/01/2022</td>\n",
              "      <td>0.89</td>\n",
              "      <td>15</td>\n",
              "      <td>37</td>\n",
              "      <td>52</td>\n",
              "      <td>4</td>\n",
              "      <td>127</td>\n",
              "      <td>1</td>\n",
              "    </tr>\n",
              "    <tr>\n",
              "      <th>3</th>\n",
              "      <td>01/01/2022</td>\n",
              "      <td>1.10</td>\n",
              "      <td>31</td>\n",
              "      <td>39</td>\n",
              "      <td>70</td>\n",
              "      <td>2</td>\n",
              "      <td>120</td>\n",
              "      <td>1</td>\n",
              "    </tr>\n",
              "    <tr>\n",
              "      <th>4</th>\n",
              "      <td>01/01/2022</td>\n",
              "      <td>0.76</td>\n",
              "      <td>9</td>\n",
              "      <td>34</td>\n",
              "      <td>43</td>\n",
              "      <td>4</td>\n",
              "      <td>89</td>\n",
              "      <td>0</td>\n",
              "    </tr>\n",
              "    <tr>\n",
              "      <th>...</th>\n",
              "      <td>...</td>\n",
              "      <td>...</td>\n",
              "      <td>...</td>\n",
              "      <td>...</td>\n",
              "      <td>...</td>\n",
              "      <td>...</td>\n",
              "      <td>...</td>\n",
              "      <td>...</td>\n",
              "    </tr>\n",
              "    <tr>\n",
              "      <th>8011</th>\n",
              "      <td>30/11/2022</td>\n",
              "      <td>0.20</td>\n",
              "      <td>3</td>\n",
              "      <td>16</td>\n",
              "      <td>19</td>\n",
              "      <td>20</td>\n",
              "      <td>64</td>\n",
              "      <td>1</td>\n",
              "    </tr>\n",
              "    <tr>\n",
              "      <th>8012</th>\n",
              "      <td>30/11/2022</td>\n",
              "      <td>0.16</td>\n",
              "      <td>1</td>\n",
              "      <td>13</td>\n",
              "      <td>14</td>\n",
              "      <td>21</td>\n",
              "      <td>52</td>\n",
              "      <td>1</td>\n",
              "    </tr>\n",
              "    <tr>\n",
              "      <th>8013</th>\n",
              "      <td>30/11/2022</td>\n",
              "      <td>0.16</td>\n",
              "      <td>2</td>\n",
              "      <td>12</td>\n",
              "      <td>14</td>\n",
              "      <td>20</td>\n",
              "      <td>33</td>\n",
              "      <td>1</td>\n",
              "    </tr>\n",
              "    <tr>\n",
              "      <th>8014</th>\n",
              "      <td>30/11/2022</td>\n",
              "      <td>0.12</td>\n",
              "      <td>1</td>\n",
              "      <td>12</td>\n",
              "      <td>13</td>\n",
              "      <td>19</td>\n",
              "      <td>31</td>\n",
              "      <td>1</td>\n",
              "    </tr>\n",
              "    <tr>\n",
              "      <th>8015</th>\n",
              "      <td>30/11/2022</td>\n",
              "      <td>0.09</td>\n",
              "      <td>1</td>\n",
              "      <td>10</td>\n",
              "      <td>11</td>\n",
              "      <td>20</td>\n",
              "      <td>13</td>\n",
              "      <td>1</td>\n",
              "    </tr>\n",
              "  </tbody>\n",
              "</table>\n",
              "<p>8016 rows × 8 columns</p>\n",
              "</div>\n",
              "    <div class=\"colab-df-buttons\">\n",
              "\n",
              "  <div class=\"colab-df-container\">\n",
              "    <button class=\"colab-df-convert\" onclick=\"convertToInteractive('df-ecb53682-d393-474e-9f57-b56a173fb1b9')\"\n",
              "            title=\"Convert this dataframe to an interactive table.\"\n",
              "            style=\"display:none;\">\n",
              "\n",
              "  <svg xmlns=\"http://www.w3.org/2000/svg\" height=\"24px\" viewBox=\"0 -960 960 960\">\n",
              "    <path d=\"M120-120v-720h720v720H120Zm60-500h600v-160H180v160Zm220 220h160v-160H400v160Zm0 220h160v-160H400v160ZM180-400h160v-160H180v160Zm440 0h160v-160H620v160ZM180-180h160v-160H180v160Zm440 0h160v-160H620v160Z\"/>\n",
              "  </svg>\n",
              "    </button>\n",
              "\n",
              "  <style>\n",
              "    .colab-df-container {\n",
              "      display:flex;\n",
              "      gap: 12px;\n",
              "    }\n",
              "\n",
              "    .colab-df-convert {\n",
              "      background-color: #E8F0FE;\n",
              "      border: none;\n",
              "      border-radius: 50%;\n",
              "      cursor: pointer;\n",
              "      display: none;\n",
              "      fill: #1967D2;\n",
              "      height: 32px;\n",
              "      padding: 0 0 0 0;\n",
              "      width: 32px;\n",
              "    }\n",
              "\n",
              "    .colab-df-convert:hover {\n",
              "      background-color: #E2EBFA;\n",
              "      box-shadow: 0px 1px 2px rgba(60, 64, 67, 0.3), 0px 1px 3px 1px rgba(60, 64, 67, 0.15);\n",
              "      fill: #174EA6;\n",
              "    }\n",
              "\n",
              "    .colab-df-buttons div {\n",
              "      margin-bottom: 4px;\n",
              "    }\n",
              "\n",
              "    [theme=dark] .colab-df-convert {\n",
              "      background-color: #3B4455;\n",
              "      fill: #D2E3FC;\n",
              "    }\n",
              "\n",
              "    [theme=dark] .colab-df-convert:hover {\n",
              "      background-color: #434B5C;\n",
              "      box-shadow: 0px 1px 3px 1px rgba(0, 0, 0, 0.15);\n",
              "      filter: drop-shadow(0px 1px 2px rgba(0, 0, 0, 0.3));\n",
              "      fill: #FFFFFF;\n",
              "    }\n",
              "  </style>\n",
              "\n",
              "    <script>\n",
              "      const buttonEl =\n",
              "        document.querySelector('#df-ecb53682-d393-474e-9f57-b56a173fb1b9 button.colab-df-convert');\n",
              "      buttonEl.style.display =\n",
              "        google.colab.kernel.accessAllowed ? 'block' : 'none';\n",
              "\n",
              "      async function convertToInteractive(key) {\n",
              "        const element = document.querySelector('#df-ecb53682-d393-474e-9f57-b56a173fb1b9');\n",
              "        const dataTable =\n",
              "          await google.colab.kernel.invokeFunction('convertToInteractive',\n",
              "                                                    [key], {});\n",
              "        if (!dataTable) return;\n",
              "\n",
              "        const docLinkHtml = 'Like what you see? Visit the ' +\n",
              "          '<a target=\"_blank\" href=https://colab.research.google.com/notebooks/data_table.ipynb>data table notebook</a>'\n",
              "          + ' to learn more about interactive tables.';\n",
              "        element.innerHTML = '';\n",
              "        dataTable['output_type'] = 'display_data';\n",
              "        await google.colab.output.renderOutput(dataTable, element);\n",
              "        const docLink = document.createElement('div');\n",
              "        docLink.innerHTML = docLinkHtml;\n",
              "        element.appendChild(docLink);\n",
              "      }\n",
              "    </script>\n",
              "  </div>\n",
              "\n",
              "\n",
              "<div id=\"df-78d5a4b7-a8e3-4a80-b2e7-153e641b54a7\">\n",
              "  <button class=\"colab-df-quickchart\" onclick=\"quickchart('df-78d5a4b7-a8e3-4a80-b2e7-153e641b54a7')\"\n",
              "            title=\"Suggest charts.\"\n",
              "            style=\"display:none;\">\n",
              "\n",
              "<svg xmlns=\"http://www.w3.org/2000/svg\" height=\"24px\"viewBox=\"0 0 24 24\"\n",
              "     width=\"24px\">\n",
              "    <g>\n",
              "        <path d=\"M19 3H5c-1.1 0-2 .9-2 2v14c0 1.1.9 2 2 2h14c1.1 0 2-.9 2-2V5c0-1.1-.9-2-2-2zM9 17H7v-7h2v7zm4 0h-2V7h2v10zm4 0h-2v-4h2v4z\"/>\n",
              "    </g>\n",
              "</svg>\n",
              "  </button>\n",
              "\n",
              "<style>\n",
              "  .colab-df-quickchart {\n",
              "      --bg-color: #E8F0FE;\n",
              "      --fill-color: #1967D2;\n",
              "      --hover-bg-color: #E2EBFA;\n",
              "      --hover-fill-color: #174EA6;\n",
              "      --disabled-fill-color: #AAA;\n",
              "      --disabled-bg-color: #DDD;\n",
              "  }\n",
              "\n",
              "  [theme=dark] .colab-df-quickchart {\n",
              "      --bg-color: #3B4455;\n",
              "      --fill-color: #D2E3FC;\n",
              "      --hover-bg-color: #434B5C;\n",
              "      --hover-fill-color: #FFFFFF;\n",
              "      --disabled-bg-color: #3B4455;\n",
              "      --disabled-fill-color: #666;\n",
              "  }\n",
              "\n",
              "  .colab-df-quickchart {\n",
              "    background-color: var(--bg-color);\n",
              "    border: none;\n",
              "    border-radius: 50%;\n",
              "    cursor: pointer;\n",
              "    display: none;\n",
              "    fill: var(--fill-color);\n",
              "    height: 32px;\n",
              "    padding: 0;\n",
              "    width: 32px;\n",
              "  }\n",
              "\n",
              "  .colab-df-quickchart:hover {\n",
              "    background-color: var(--hover-bg-color);\n",
              "    box-shadow: 0 1px 2px rgba(60, 64, 67, 0.3), 0 1px 3px 1px rgba(60, 64, 67, 0.15);\n",
              "    fill: var(--button-hover-fill-color);\n",
              "  }\n",
              "\n",
              "  .colab-df-quickchart-complete:disabled,\n",
              "  .colab-df-quickchart-complete:disabled:hover {\n",
              "    background-color: var(--disabled-bg-color);\n",
              "    fill: var(--disabled-fill-color);\n",
              "    box-shadow: none;\n",
              "  }\n",
              "\n",
              "  .colab-df-spinner {\n",
              "    border: 2px solid var(--fill-color);\n",
              "    border-color: transparent;\n",
              "    border-bottom-color: var(--fill-color);\n",
              "    animation:\n",
              "      spin 1s steps(1) infinite;\n",
              "  }\n",
              "\n",
              "  @keyframes spin {\n",
              "    0% {\n",
              "      border-color: transparent;\n",
              "      border-bottom-color: var(--fill-color);\n",
              "      border-left-color: var(--fill-color);\n",
              "    }\n",
              "    20% {\n",
              "      border-color: transparent;\n",
              "      border-left-color: var(--fill-color);\n",
              "      border-top-color: var(--fill-color);\n",
              "    }\n",
              "    30% {\n",
              "      border-color: transparent;\n",
              "      border-left-color: var(--fill-color);\n",
              "      border-top-color: var(--fill-color);\n",
              "      border-right-color: var(--fill-color);\n",
              "    }\n",
              "    40% {\n",
              "      border-color: transparent;\n",
              "      border-right-color: var(--fill-color);\n",
              "      border-top-color: var(--fill-color);\n",
              "    }\n",
              "    60% {\n",
              "      border-color: transparent;\n",
              "      border-right-color: var(--fill-color);\n",
              "    }\n",
              "    80% {\n",
              "      border-color: transparent;\n",
              "      border-right-color: var(--fill-color);\n",
              "      border-bottom-color: var(--fill-color);\n",
              "    }\n",
              "    90% {\n",
              "      border-color: transparent;\n",
              "      border-bottom-color: var(--fill-color);\n",
              "    }\n",
              "  }\n",
              "</style>\n",
              "\n",
              "  <script>\n",
              "    async function quickchart(key) {\n",
              "      const quickchartButtonEl =\n",
              "        document.querySelector('#' + key + ' button');\n",
              "      quickchartButtonEl.disabled = true;  // To prevent multiple clicks.\n",
              "      quickchartButtonEl.classList.add('colab-df-spinner');\n",
              "      try {\n",
              "        const charts = await google.colab.kernel.invokeFunction(\n",
              "            'suggestCharts', [key], {});\n",
              "      } catch (error) {\n",
              "        console.error('Error during call to suggestCharts:', error);\n",
              "      }\n",
              "      quickchartButtonEl.classList.remove('colab-df-spinner');\n",
              "      quickchartButtonEl.classList.add('colab-df-quickchart-complete');\n",
              "    }\n",
              "    (() => {\n",
              "      let quickchartButtonEl =\n",
              "        document.querySelector('#df-78d5a4b7-a8e3-4a80-b2e7-153e641b54a7 button');\n",
              "      quickchartButtonEl.style.display =\n",
              "        google.colab.kernel.accessAllowed ? 'block' : 'none';\n",
              "    })();\n",
              "  </script>\n",
              "</div>\n",
              "    </div>\n",
              "  </div>\n"
            ]
          },
          "metadata": {},
          "execution_count": 2
        }
      ]
    },
    {
      "cell_type": "markdown",
      "source": [
        "#Parte 1. Análisis descriptivo de los datos"
      ],
      "metadata": {
        "id": "0Yn0YaghrUgg"
      }
    },
    {
      "cell_type": "markdown",
      "source": [
        "##a)\n",
        "Indique las características de su base de datos (cuántas variables hay y de qué tipo (si son categóricas o numéricas, cuantas observaciones son (vectores de medición, es decir, filas).\n",
        "\n"
      ],
      "metadata": {
        "id": "hZDJAYENra3l"
      }
    },
    {
      "cell_type": "code",
      "source": [
        "df.info()"
      ],
      "metadata": {
        "id": "aCE9bC0NsOrX",
        "outputId": "2117ec7d-4068-4bb2-c189-0346ce5042a3",
        "colab": {
          "base_uri": "https://localhost:8080/",
          "height": 0
        }
      },
      "execution_count": 3,
      "outputs": [
        {
          "output_type": "stream",
          "name": "stdout",
          "text": [
            "<class 'pandas.core.frame.DataFrame'>\n",
            "RangeIndex: 8016 entries, 0 to 8015\n",
            "Data columns (total 8 columns):\n",
            " #   Column  Non-Null Count  Dtype  \n",
            "---  ------  --------------  -----  \n",
            " 0   FECHA   8016 non-null   object \n",
            " 1   CO      8016 non-null   float64\n",
            " 2   NO      8016 non-null   int64  \n",
            " 3   NO2     8016 non-null   int64  \n",
            " 4   NOX     8016 non-null   int64  \n",
            " 5   O3      8016 non-null   int64  \n",
            " 6   PM10    8016 non-null   int64  \n",
            " 7   SO2     8016 non-null   int64  \n",
            "dtypes: float64(1), int64(6), object(1)\n",
            "memory usage: 501.1+ KB\n"
          ]
        }
      ]
    },
    {
      "cell_type": "code",
      "source": [
        "for columna in df.iloc[:,1:].columns:\n",
        "  print(columna, len(set(df[columna])))\n",
        "#Para ver cuantos valores unicos tiene cada columna, para ver si alguna podria ser categorica"
      ],
      "metadata": {
        "colab": {
          "base_uri": "https://localhost:8080/",
          "height": 0
        },
        "id": "OTnaKvRS0fh-",
        "outputId": "6032c447-1c22-4cb5-8471-f96c4ca65063"
      },
      "execution_count": 4,
      "outputs": [
        {
          "output_type": "stream",
          "name": "stdout",
          "text": [
            "CO 259\n",
            "NO 193\n",
            "NO2 87\n",
            "NOX 221\n",
            "O3 125\n",
            "PM10 178\n",
            "SO2 53\n"
          ]
        }
      ]
    },
    {
      "cell_type": "markdown",
      "source": [
        "**Notas:**\n",
        "- LA tabla contiene una columna de fecha, 1 columna que es numerica con valores continuos y 6 columnas que son numericas con valores discretos\n",
        "- La ultima columna (SO2) podria ser una variable categorica, pero cuenta con 53 valores unicos\n",
        "- El numero de observaciones es de 8016 filas"
      ],
      "metadata": {
        "id": "BX6VQr7OsltA"
      }
    },
    {
      "cell_type": "code",
      "source": [
        "numericas = df[[\"CO\",\"NO\",\"NO2\",\"NOX\",\"O3\",\"PM10\",\"SO2\"]]\n",
        "fecha = df[\"FECHA\"]"
      ],
      "metadata": {
        "id": "i6C2sCmsvHSP"
      },
      "execution_count": 5,
      "outputs": []
    },
    {
      "cell_type": "code",
      "source": [
        "for columna in df.iloc[:,1:].columns:\n",
        "  print(df[columna][df[columna] < 0].value_counts())\n",
        "#Para ver cuantos valores perdidos tiene cada columna"
      ],
      "metadata": {
        "colab": {
          "base_uri": "https://localhost:8080/",
          "height": 0
        },
        "id": "UPLnZ6UjxkPa",
        "outputId": "8dc09ec8-2492-4a75-dc9d-26fa64749fb3"
      },
      "execution_count": 6,
      "outputs": [
        {
          "output_type": "stream",
          "name": "stdout",
          "text": [
            "-99.0    881\n",
            "Name: CO, dtype: int64\n",
            "-99    941\n",
            "Name: NO, dtype: int64\n",
            "-99    941\n",
            "Name: NO2, dtype: int64\n",
            "-99    941\n",
            "Name: NOX, dtype: int64\n",
            "-99    896\n",
            "Name: O3, dtype: int64\n",
            "-99    1458\n",
            "Name: PM10, dtype: int64\n",
            "-99    861\n",
            "Name: SO2, dtype: int64\n"
          ]
        }
      ]
    },
    {
      "cell_type": "code",
      "source": [
        "for columna in df.iloc[:,1:].columns:\n",
        "  df = df[df[columna] >= 0]\n",
        "#Para eliminar los valores perdidos en cada columna"
      ],
      "metadata": {
        "id": "qzNC4gFSxxip"
      },
      "execution_count": 7,
      "outputs": []
    },
    {
      "cell_type": "code",
      "source": [
        "df\n",
        "#Para mostrar el dataset despues de eliminar los valores perdidos"
      ],
      "metadata": {
        "colab": {
          "base_uri": "https://localhost:8080/",
          "height": 424
        },
        "id": "zU-4uDFDyltN",
        "outputId": "33fd43a9-2e9a-438e-a8c3-58e5e20dfa92"
      },
      "execution_count": 8,
      "outputs": [
        {
          "output_type": "execute_result",
          "data": {
            "text/plain": [
              "           FECHA    CO  NO  NO2  NOX  O3  PM10  SO2\n",
              "0     01/01/2022  0.89  11   39   50   4    97    1\n",
              "1     01/01/2022  0.89  11   38   48   5   107    1\n",
              "2     01/01/2022  0.89  15   37   52   4   127    1\n",
              "3     01/01/2022  1.10  31   39   70   2   120    1\n",
              "4     01/01/2022  0.76   9   34   43   4    89    0\n",
              "...          ...   ...  ..  ...  ...  ..   ...  ...\n",
              "8011  30/11/2022  0.20   3   16   19  20    64    1\n",
              "8012  30/11/2022  0.16   1   13   14  21    52    1\n",
              "8013  30/11/2022  0.16   2   12   14  20    33    1\n",
              "8014  30/11/2022  0.12   1   12   13  19    31    1\n",
              "8015  30/11/2022  0.09   1   10   11  20    13    1\n",
              "\n",
              "[6209 rows x 8 columns]"
            ],
            "text/html": [
              "\n",
              "  <div id=\"df-70706e48-9795-43d1-b20a-69557fc56201\" class=\"colab-df-container\">\n",
              "    <div>\n",
              "<style scoped>\n",
              "    .dataframe tbody tr th:only-of-type {\n",
              "        vertical-align: middle;\n",
              "    }\n",
              "\n",
              "    .dataframe tbody tr th {\n",
              "        vertical-align: top;\n",
              "    }\n",
              "\n",
              "    .dataframe thead th {\n",
              "        text-align: right;\n",
              "    }\n",
              "</style>\n",
              "<table border=\"1\" class=\"dataframe\">\n",
              "  <thead>\n",
              "    <tr style=\"text-align: right;\">\n",
              "      <th></th>\n",
              "      <th>FECHA</th>\n",
              "      <th>CO</th>\n",
              "      <th>NO</th>\n",
              "      <th>NO2</th>\n",
              "      <th>NOX</th>\n",
              "      <th>O3</th>\n",
              "      <th>PM10</th>\n",
              "      <th>SO2</th>\n",
              "    </tr>\n",
              "  </thead>\n",
              "  <tbody>\n",
              "    <tr>\n",
              "      <th>0</th>\n",
              "      <td>01/01/2022</td>\n",
              "      <td>0.89</td>\n",
              "      <td>11</td>\n",
              "      <td>39</td>\n",
              "      <td>50</td>\n",
              "      <td>4</td>\n",
              "      <td>97</td>\n",
              "      <td>1</td>\n",
              "    </tr>\n",
              "    <tr>\n",
              "      <th>1</th>\n",
              "      <td>01/01/2022</td>\n",
              "      <td>0.89</td>\n",
              "      <td>11</td>\n",
              "      <td>38</td>\n",
              "      <td>48</td>\n",
              "      <td>5</td>\n",
              "      <td>107</td>\n",
              "      <td>1</td>\n",
              "    </tr>\n",
              "    <tr>\n",
              "      <th>2</th>\n",
              "      <td>01/01/2022</td>\n",
              "      <td>0.89</td>\n",
              "      <td>15</td>\n",
              "      <td>37</td>\n",
              "      <td>52</td>\n",
              "      <td>4</td>\n",
              "      <td>127</td>\n",
              "      <td>1</td>\n",
              "    </tr>\n",
              "    <tr>\n",
              "      <th>3</th>\n",
              "      <td>01/01/2022</td>\n",
              "      <td>1.10</td>\n",
              "      <td>31</td>\n",
              "      <td>39</td>\n",
              "      <td>70</td>\n",
              "      <td>2</td>\n",
              "      <td>120</td>\n",
              "      <td>1</td>\n",
              "    </tr>\n",
              "    <tr>\n",
              "      <th>4</th>\n",
              "      <td>01/01/2022</td>\n",
              "      <td>0.76</td>\n",
              "      <td>9</td>\n",
              "      <td>34</td>\n",
              "      <td>43</td>\n",
              "      <td>4</td>\n",
              "      <td>89</td>\n",
              "      <td>0</td>\n",
              "    </tr>\n",
              "    <tr>\n",
              "      <th>...</th>\n",
              "      <td>...</td>\n",
              "      <td>...</td>\n",
              "      <td>...</td>\n",
              "      <td>...</td>\n",
              "      <td>...</td>\n",
              "      <td>...</td>\n",
              "      <td>...</td>\n",
              "      <td>...</td>\n",
              "    </tr>\n",
              "    <tr>\n",
              "      <th>8011</th>\n",
              "      <td>30/11/2022</td>\n",
              "      <td>0.20</td>\n",
              "      <td>3</td>\n",
              "      <td>16</td>\n",
              "      <td>19</td>\n",
              "      <td>20</td>\n",
              "      <td>64</td>\n",
              "      <td>1</td>\n",
              "    </tr>\n",
              "    <tr>\n",
              "      <th>8012</th>\n",
              "      <td>30/11/2022</td>\n",
              "      <td>0.16</td>\n",
              "      <td>1</td>\n",
              "      <td>13</td>\n",
              "      <td>14</td>\n",
              "      <td>21</td>\n",
              "      <td>52</td>\n",
              "      <td>1</td>\n",
              "    </tr>\n",
              "    <tr>\n",
              "      <th>8013</th>\n",
              "      <td>30/11/2022</td>\n",
              "      <td>0.16</td>\n",
              "      <td>2</td>\n",
              "      <td>12</td>\n",
              "      <td>14</td>\n",
              "      <td>20</td>\n",
              "      <td>33</td>\n",
              "      <td>1</td>\n",
              "    </tr>\n",
              "    <tr>\n",
              "      <th>8014</th>\n",
              "      <td>30/11/2022</td>\n",
              "      <td>0.12</td>\n",
              "      <td>1</td>\n",
              "      <td>12</td>\n",
              "      <td>13</td>\n",
              "      <td>19</td>\n",
              "      <td>31</td>\n",
              "      <td>1</td>\n",
              "    </tr>\n",
              "    <tr>\n",
              "      <th>8015</th>\n",
              "      <td>30/11/2022</td>\n",
              "      <td>0.09</td>\n",
              "      <td>1</td>\n",
              "      <td>10</td>\n",
              "      <td>11</td>\n",
              "      <td>20</td>\n",
              "      <td>13</td>\n",
              "      <td>1</td>\n",
              "    </tr>\n",
              "  </tbody>\n",
              "</table>\n",
              "<p>6209 rows × 8 columns</p>\n",
              "</div>\n",
              "    <div class=\"colab-df-buttons\">\n",
              "\n",
              "  <div class=\"colab-df-container\">\n",
              "    <button class=\"colab-df-convert\" onclick=\"convertToInteractive('df-70706e48-9795-43d1-b20a-69557fc56201')\"\n",
              "            title=\"Convert this dataframe to an interactive table.\"\n",
              "            style=\"display:none;\">\n",
              "\n",
              "  <svg xmlns=\"http://www.w3.org/2000/svg\" height=\"24px\" viewBox=\"0 -960 960 960\">\n",
              "    <path d=\"M120-120v-720h720v720H120Zm60-500h600v-160H180v160Zm220 220h160v-160H400v160Zm0 220h160v-160H400v160ZM180-400h160v-160H180v160Zm440 0h160v-160H620v160ZM180-180h160v-160H180v160Zm440 0h160v-160H620v160Z\"/>\n",
              "  </svg>\n",
              "    </button>\n",
              "\n",
              "  <style>\n",
              "    .colab-df-container {\n",
              "      display:flex;\n",
              "      gap: 12px;\n",
              "    }\n",
              "\n",
              "    .colab-df-convert {\n",
              "      background-color: #E8F0FE;\n",
              "      border: none;\n",
              "      border-radius: 50%;\n",
              "      cursor: pointer;\n",
              "      display: none;\n",
              "      fill: #1967D2;\n",
              "      height: 32px;\n",
              "      padding: 0 0 0 0;\n",
              "      width: 32px;\n",
              "    }\n",
              "\n",
              "    .colab-df-convert:hover {\n",
              "      background-color: #E2EBFA;\n",
              "      box-shadow: 0px 1px 2px rgba(60, 64, 67, 0.3), 0px 1px 3px 1px rgba(60, 64, 67, 0.15);\n",
              "      fill: #174EA6;\n",
              "    }\n",
              "\n",
              "    .colab-df-buttons div {\n",
              "      margin-bottom: 4px;\n",
              "    }\n",
              "\n",
              "    [theme=dark] .colab-df-convert {\n",
              "      background-color: #3B4455;\n",
              "      fill: #D2E3FC;\n",
              "    }\n",
              "\n",
              "    [theme=dark] .colab-df-convert:hover {\n",
              "      background-color: #434B5C;\n",
              "      box-shadow: 0px 1px 3px 1px rgba(0, 0, 0, 0.15);\n",
              "      filter: drop-shadow(0px 1px 2px rgba(0, 0, 0, 0.3));\n",
              "      fill: #FFFFFF;\n",
              "    }\n",
              "  </style>\n",
              "\n",
              "    <script>\n",
              "      const buttonEl =\n",
              "        document.querySelector('#df-70706e48-9795-43d1-b20a-69557fc56201 button.colab-df-convert');\n",
              "      buttonEl.style.display =\n",
              "        google.colab.kernel.accessAllowed ? 'block' : 'none';\n",
              "\n",
              "      async function convertToInteractive(key) {\n",
              "        const element = document.querySelector('#df-70706e48-9795-43d1-b20a-69557fc56201');\n",
              "        const dataTable =\n",
              "          await google.colab.kernel.invokeFunction('convertToInteractive',\n",
              "                                                    [key], {});\n",
              "        if (!dataTable) return;\n",
              "\n",
              "        const docLinkHtml = 'Like what you see? Visit the ' +\n",
              "          '<a target=\"_blank\" href=https://colab.research.google.com/notebooks/data_table.ipynb>data table notebook</a>'\n",
              "          + ' to learn more about interactive tables.';\n",
              "        element.innerHTML = '';\n",
              "        dataTable['output_type'] = 'display_data';\n",
              "        await google.colab.output.renderOutput(dataTable, element);\n",
              "        const docLink = document.createElement('div');\n",
              "        docLink.innerHTML = docLinkHtml;\n",
              "        element.appendChild(docLink);\n",
              "      }\n",
              "    </script>\n",
              "  </div>\n",
              "\n",
              "\n",
              "<div id=\"df-3ef164ba-e03f-4cef-a45c-e9e44a47fa80\">\n",
              "  <button class=\"colab-df-quickchart\" onclick=\"quickchart('df-3ef164ba-e03f-4cef-a45c-e9e44a47fa80')\"\n",
              "            title=\"Suggest charts.\"\n",
              "            style=\"display:none;\">\n",
              "\n",
              "<svg xmlns=\"http://www.w3.org/2000/svg\" height=\"24px\"viewBox=\"0 0 24 24\"\n",
              "     width=\"24px\">\n",
              "    <g>\n",
              "        <path d=\"M19 3H5c-1.1 0-2 .9-2 2v14c0 1.1.9 2 2 2h14c1.1 0 2-.9 2-2V5c0-1.1-.9-2-2-2zM9 17H7v-7h2v7zm4 0h-2V7h2v10zm4 0h-2v-4h2v4z\"/>\n",
              "    </g>\n",
              "</svg>\n",
              "  </button>\n",
              "\n",
              "<style>\n",
              "  .colab-df-quickchart {\n",
              "      --bg-color: #E8F0FE;\n",
              "      --fill-color: #1967D2;\n",
              "      --hover-bg-color: #E2EBFA;\n",
              "      --hover-fill-color: #174EA6;\n",
              "      --disabled-fill-color: #AAA;\n",
              "      --disabled-bg-color: #DDD;\n",
              "  }\n",
              "\n",
              "  [theme=dark] .colab-df-quickchart {\n",
              "      --bg-color: #3B4455;\n",
              "      --fill-color: #D2E3FC;\n",
              "      --hover-bg-color: #434B5C;\n",
              "      --hover-fill-color: #FFFFFF;\n",
              "      --disabled-bg-color: #3B4455;\n",
              "      --disabled-fill-color: #666;\n",
              "  }\n",
              "\n",
              "  .colab-df-quickchart {\n",
              "    background-color: var(--bg-color);\n",
              "    border: none;\n",
              "    border-radius: 50%;\n",
              "    cursor: pointer;\n",
              "    display: none;\n",
              "    fill: var(--fill-color);\n",
              "    height: 32px;\n",
              "    padding: 0;\n",
              "    width: 32px;\n",
              "  }\n",
              "\n",
              "  .colab-df-quickchart:hover {\n",
              "    background-color: var(--hover-bg-color);\n",
              "    box-shadow: 0 1px 2px rgba(60, 64, 67, 0.3), 0 1px 3px 1px rgba(60, 64, 67, 0.15);\n",
              "    fill: var(--button-hover-fill-color);\n",
              "  }\n",
              "\n",
              "  .colab-df-quickchart-complete:disabled,\n",
              "  .colab-df-quickchart-complete:disabled:hover {\n",
              "    background-color: var(--disabled-bg-color);\n",
              "    fill: var(--disabled-fill-color);\n",
              "    box-shadow: none;\n",
              "  }\n",
              "\n",
              "  .colab-df-spinner {\n",
              "    border: 2px solid var(--fill-color);\n",
              "    border-color: transparent;\n",
              "    border-bottom-color: var(--fill-color);\n",
              "    animation:\n",
              "      spin 1s steps(1) infinite;\n",
              "  }\n",
              "\n",
              "  @keyframes spin {\n",
              "    0% {\n",
              "      border-color: transparent;\n",
              "      border-bottom-color: var(--fill-color);\n",
              "      border-left-color: var(--fill-color);\n",
              "    }\n",
              "    20% {\n",
              "      border-color: transparent;\n",
              "      border-left-color: var(--fill-color);\n",
              "      border-top-color: var(--fill-color);\n",
              "    }\n",
              "    30% {\n",
              "      border-color: transparent;\n",
              "      border-left-color: var(--fill-color);\n",
              "      border-top-color: var(--fill-color);\n",
              "      border-right-color: var(--fill-color);\n",
              "    }\n",
              "    40% {\n",
              "      border-color: transparent;\n",
              "      border-right-color: var(--fill-color);\n",
              "      border-top-color: var(--fill-color);\n",
              "    }\n",
              "    60% {\n",
              "      border-color: transparent;\n",
              "      border-right-color: var(--fill-color);\n",
              "    }\n",
              "    80% {\n",
              "      border-color: transparent;\n",
              "      border-right-color: var(--fill-color);\n",
              "      border-bottom-color: var(--fill-color);\n",
              "    }\n",
              "    90% {\n",
              "      border-color: transparent;\n",
              "      border-bottom-color: var(--fill-color);\n",
              "    }\n",
              "  }\n",
              "</style>\n",
              "\n",
              "  <script>\n",
              "    async function quickchart(key) {\n",
              "      const quickchartButtonEl =\n",
              "        document.querySelector('#' + key + ' button');\n",
              "      quickchartButtonEl.disabled = true;  // To prevent multiple clicks.\n",
              "      quickchartButtonEl.classList.add('colab-df-spinner');\n",
              "      try {\n",
              "        const charts = await google.colab.kernel.invokeFunction(\n",
              "            'suggestCharts', [key], {});\n",
              "      } catch (error) {\n",
              "        console.error('Error during call to suggestCharts:', error);\n",
              "      }\n",
              "      quickchartButtonEl.classList.remove('colab-df-spinner');\n",
              "      quickchartButtonEl.classList.add('colab-df-quickchart-complete');\n",
              "    }\n",
              "    (() => {\n",
              "      let quickchartButtonEl =\n",
              "        document.querySelector('#df-3ef164ba-e03f-4cef-a45c-e9e44a47fa80 button');\n",
              "      quickchartButtonEl.style.display =\n",
              "        google.colab.kernel.accessAllowed ? 'block' : 'none';\n",
              "    })();\n",
              "  </script>\n",
              "</div>\n",
              "    </div>\n",
              "  </div>\n"
            ]
          },
          "metadata": {},
          "execution_count": 8
        }
      ]
    },
    {
      "cell_type": "code",
      "source": [
        "for columna in df.iloc[:,1:].columns:\n",
        "  print(df[columna][df[columna] < 0].value_counts())\n",
        "#Para verificar que se hayan eliminado los valores perdidos"
      ],
      "metadata": {
        "colab": {
          "base_uri": "https://localhost:8080/",
          "height": 0
        },
        "id": "0OFxviFgzAvR",
        "outputId": "9dda2457-8b7d-4131-cdfa-31f1300dbfd7"
      },
      "execution_count": 9,
      "outputs": [
        {
          "output_type": "stream",
          "name": "stdout",
          "text": [
            "Series([], Name: CO, dtype: int64)\n",
            "Series([], Name: NO, dtype: int64)\n",
            "Series([], Name: NO2, dtype: int64)\n",
            "Series([], Name: NOX, dtype: int64)\n",
            "Series([], Name: O3, dtype: int64)\n",
            "Series([], Name: PM10, dtype: int64)\n",
            "Series([], Name: SO2, dtype: int64)\n"
          ]
        }
      ]
    },
    {
      "cell_type": "code",
      "source": [
        "for columna in df.iloc[:,1:].columns:\n",
        "  print(df[columna][df[columna] == 0].value_counts())\n",
        "#Para ver las columnas que tienen valores igual a 0 y cuantos son"
      ],
      "metadata": {
        "colab": {
          "base_uri": "https://localhost:8080/",
          "height": 0
        },
        "id": "_tTr9Pq69uZk",
        "outputId": "c1a5ea02-8911-46d2-8bd1-41fb40045668"
      },
      "execution_count": 10,
      "outputs": [
        {
          "output_type": "stream",
          "name": "stdout",
          "text": [
            "0.0    4\n",
            "Name: CO, dtype: int64\n",
            "0    492\n",
            "Name: NO, dtype: int64\n",
            "Series([], Name: NO2, dtype: int64)\n",
            "Series([], Name: NOX, dtype: int64)\n",
            "0    18\n",
            "Name: O3, dtype: int64\n",
            "Series([], Name: PM10, dtype: int64)\n",
            "0    550\n",
            "Name: SO2, dtype: int64\n"
          ]
        }
      ]
    },
    {
      "cell_type": "markdown",
      "source": [
        "##b)\n",
        "Describa con medidas resumen las variables (media, mediana, varianza, desviación estánar, cuartil 1, cuartil 3, minimo, máximo, etc.). Calcule el coeficiente de variación de cada variable numérica. Si hubiera variables categóricas haga una tabla de frecuencias relativas de sus niveles. La variable fecha no la tome en cuenta (es ideal para series de tiempo, pero no es el caso para este análisis).  "
      ],
      "metadata": {
        "id": "opyXDPNVrk2D"
      }
    },
    {
      "cell_type": "code",
      "source": [
        "df.describe()"
      ],
      "metadata": {
        "colab": {
          "base_uri": "https://localhost:8080/",
          "height": 300
        },
        "id": "DZ_r8T26sMfI",
        "outputId": "f5995006-9fe9-472f-b586-c316e0593827"
      },
      "execution_count": 11,
      "outputs": [
        {
          "output_type": "execute_result",
          "data": {
            "text/plain": [
              "                CO           NO          NO2          NOX           O3  \\\n",
              "count  6209.000000  6209.000000  6209.000000  6209.000000  6209.000000   \n",
              "mean      0.435529    16.301659    21.983089    38.282171    27.013690   \n",
              "std       0.427568    29.570802    12.207092    36.483322    22.899017   \n",
              "min       0.000000     0.000000     2.000000     3.000000     0.000000   \n",
              "25%       0.180000     2.000000    13.000000    16.000000    10.000000   \n",
              "50%       0.290000     5.000000    19.000000    25.000000    21.000000   \n",
              "75%       0.520000    15.000000    28.000000    45.000000    39.000000   \n",
              "max       3.220000   251.000000   102.000000   278.000000   146.000000   \n",
              "\n",
              "              PM10          SO2  \n",
              "count  6209.000000  6209.000000  \n",
              "mean     38.786117     3.433886  \n",
              "std      27.639239     5.322964  \n",
              "min       1.000000     0.000000  \n",
              "25%      20.000000     1.000000  \n",
              "50%      33.000000     2.000000  \n",
              "75%      52.000000     4.000000  \n",
              "max     263.000000    94.000000  "
            ],
            "text/html": [
              "\n",
              "  <div id=\"df-c8d1eabd-fdde-445d-a688-b921b975e54f\" class=\"colab-df-container\">\n",
              "    <div>\n",
              "<style scoped>\n",
              "    .dataframe tbody tr th:only-of-type {\n",
              "        vertical-align: middle;\n",
              "    }\n",
              "\n",
              "    .dataframe tbody tr th {\n",
              "        vertical-align: top;\n",
              "    }\n",
              "\n",
              "    .dataframe thead th {\n",
              "        text-align: right;\n",
              "    }\n",
              "</style>\n",
              "<table border=\"1\" class=\"dataframe\">\n",
              "  <thead>\n",
              "    <tr style=\"text-align: right;\">\n",
              "      <th></th>\n",
              "      <th>CO</th>\n",
              "      <th>NO</th>\n",
              "      <th>NO2</th>\n",
              "      <th>NOX</th>\n",
              "      <th>O3</th>\n",
              "      <th>PM10</th>\n",
              "      <th>SO2</th>\n",
              "    </tr>\n",
              "  </thead>\n",
              "  <tbody>\n",
              "    <tr>\n",
              "      <th>count</th>\n",
              "      <td>6209.000000</td>\n",
              "      <td>6209.000000</td>\n",
              "      <td>6209.000000</td>\n",
              "      <td>6209.000000</td>\n",
              "      <td>6209.000000</td>\n",
              "      <td>6209.000000</td>\n",
              "      <td>6209.000000</td>\n",
              "    </tr>\n",
              "    <tr>\n",
              "      <th>mean</th>\n",
              "      <td>0.435529</td>\n",
              "      <td>16.301659</td>\n",
              "      <td>21.983089</td>\n",
              "      <td>38.282171</td>\n",
              "      <td>27.013690</td>\n",
              "      <td>38.786117</td>\n",
              "      <td>3.433886</td>\n",
              "    </tr>\n",
              "    <tr>\n",
              "      <th>std</th>\n",
              "      <td>0.427568</td>\n",
              "      <td>29.570802</td>\n",
              "      <td>12.207092</td>\n",
              "      <td>36.483322</td>\n",
              "      <td>22.899017</td>\n",
              "      <td>27.639239</td>\n",
              "      <td>5.322964</td>\n",
              "    </tr>\n",
              "    <tr>\n",
              "      <th>min</th>\n",
              "      <td>0.000000</td>\n",
              "      <td>0.000000</td>\n",
              "      <td>2.000000</td>\n",
              "      <td>3.000000</td>\n",
              "      <td>0.000000</td>\n",
              "      <td>1.000000</td>\n",
              "      <td>0.000000</td>\n",
              "    </tr>\n",
              "    <tr>\n",
              "      <th>25%</th>\n",
              "      <td>0.180000</td>\n",
              "      <td>2.000000</td>\n",
              "      <td>13.000000</td>\n",
              "      <td>16.000000</td>\n",
              "      <td>10.000000</td>\n",
              "      <td>20.000000</td>\n",
              "      <td>1.000000</td>\n",
              "    </tr>\n",
              "    <tr>\n",
              "      <th>50%</th>\n",
              "      <td>0.290000</td>\n",
              "      <td>5.000000</td>\n",
              "      <td>19.000000</td>\n",
              "      <td>25.000000</td>\n",
              "      <td>21.000000</td>\n",
              "      <td>33.000000</td>\n",
              "      <td>2.000000</td>\n",
              "    </tr>\n",
              "    <tr>\n",
              "      <th>75%</th>\n",
              "      <td>0.520000</td>\n",
              "      <td>15.000000</td>\n",
              "      <td>28.000000</td>\n",
              "      <td>45.000000</td>\n",
              "      <td>39.000000</td>\n",
              "      <td>52.000000</td>\n",
              "      <td>4.000000</td>\n",
              "    </tr>\n",
              "    <tr>\n",
              "      <th>max</th>\n",
              "      <td>3.220000</td>\n",
              "      <td>251.000000</td>\n",
              "      <td>102.000000</td>\n",
              "      <td>278.000000</td>\n",
              "      <td>146.000000</td>\n",
              "      <td>263.000000</td>\n",
              "      <td>94.000000</td>\n",
              "    </tr>\n",
              "  </tbody>\n",
              "</table>\n",
              "</div>\n",
              "    <div class=\"colab-df-buttons\">\n",
              "\n",
              "  <div class=\"colab-df-container\">\n",
              "    <button class=\"colab-df-convert\" onclick=\"convertToInteractive('df-c8d1eabd-fdde-445d-a688-b921b975e54f')\"\n",
              "            title=\"Convert this dataframe to an interactive table.\"\n",
              "            style=\"display:none;\">\n",
              "\n",
              "  <svg xmlns=\"http://www.w3.org/2000/svg\" height=\"24px\" viewBox=\"0 -960 960 960\">\n",
              "    <path d=\"M120-120v-720h720v720H120Zm60-500h600v-160H180v160Zm220 220h160v-160H400v160Zm0 220h160v-160H400v160ZM180-400h160v-160H180v160Zm440 0h160v-160H620v160ZM180-180h160v-160H180v160Zm440 0h160v-160H620v160Z\"/>\n",
              "  </svg>\n",
              "    </button>\n",
              "\n",
              "  <style>\n",
              "    .colab-df-container {\n",
              "      display:flex;\n",
              "      gap: 12px;\n",
              "    }\n",
              "\n",
              "    .colab-df-convert {\n",
              "      background-color: #E8F0FE;\n",
              "      border: none;\n",
              "      border-radius: 50%;\n",
              "      cursor: pointer;\n",
              "      display: none;\n",
              "      fill: #1967D2;\n",
              "      height: 32px;\n",
              "      padding: 0 0 0 0;\n",
              "      width: 32px;\n",
              "    }\n",
              "\n",
              "    .colab-df-convert:hover {\n",
              "      background-color: #E2EBFA;\n",
              "      box-shadow: 0px 1px 2px rgba(60, 64, 67, 0.3), 0px 1px 3px 1px rgba(60, 64, 67, 0.15);\n",
              "      fill: #174EA6;\n",
              "    }\n",
              "\n",
              "    .colab-df-buttons div {\n",
              "      margin-bottom: 4px;\n",
              "    }\n",
              "\n",
              "    [theme=dark] .colab-df-convert {\n",
              "      background-color: #3B4455;\n",
              "      fill: #D2E3FC;\n",
              "    }\n",
              "\n",
              "    [theme=dark] .colab-df-convert:hover {\n",
              "      background-color: #434B5C;\n",
              "      box-shadow: 0px 1px 3px 1px rgba(0, 0, 0, 0.15);\n",
              "      filter: drop-shadow(0px 1px 2px rgba(0, 0, 0, 0.3));\n",
              "      fill: #FFFFFF;\n",
              "    }\n",
              "  </style>\n",
              "\n",
              "    <script>\n",
              "      const buttonEl =\n",
              "        document.querySelector('#df-c8d1eabd-fdde-445d-a688-b921b975e54f button.colab-df-convert');\n",
              "      buttonEl.style.display =\n",
              "        google.colab.kernel.accessAllowed ? 'block' : 'none';\n",
              "\n",
              "      async function convertToInteractive(key) {\n",
              "        const element = document.querySelector('#df-c8d1eabd-fdde-445d-a688-b921b975e54f');\n",
              "        const dataTable =\n",
              "          await google.colab.kernel.invokeFunction('convertToInteractive',\n",
              "                                                    [key], {});\n",
              "        if (!dataTable) return;\n",
              "\n",
              "        const docLinkHtml = 'Like what you see? Visit the ' +\n",
              "          '<a target=\"_blank\" href=https://colab.research.google.com/notebooks/data_table.ipynb>data table notebook</a>'\n",
              "          + ' to learn more about interactive tables.';\n",
              "        element.innerHTML = '';\n",
              "        dataTable['output_type'] = 'display_data';\n",
              "        await google.colab.output.renderOutput(dataTable, element);\n",
              "        const docLink = document.createElement('div');\n",
              "        docLink.innerHTML = docLinkHtml;\n",
              "        element.appendChild(docLink);\n",
              "      }\n",
              "    </script>\n",
              "  </div>\n",
              "\n",
              "\n",
              "<div id=\"df-91e203d0-cab6-446d-9ac7-1f188aa5d9f5\">\n",
              "  <button class=\"colab-df-quickchart\" onclick=\"quickchart('df-91e203d0-cab6-446d-9ac7-1f188aa5d9f5')\"\n",
              "            title=\"Suggest charts.\"\n",
              "            style=\"display:none;\">\n",
              "\n",
              "<svg xmlns=\"http://www.w3.org/2000/svg\" height=\"24px\"viewBox=\"0 0 24 24\"\n",
              "     width=\"24px\">\n",
              "    <g>\n",
              "        <path d=\"M19 3H5c-1.1 0-2 .9-2 2v14c0 1.1.9 2 2 2h14c1.1 0 2-.9 2-2V5c0-1.1-.9-2-2-2zM9 17H7v-7h2v7zm4 0h-2V7h2v10zm4 0h-2v-4h2v4z\"/>\n",
              "    </g>\n",
              "</svg>\n",
              "  </button>\n",
              "\n",
              "<style>\n",
              "  .colab-df-quickchart {\n",
              "      --bg-color: #E8F0FE;\n",
              "      --fill-color: #1967D2;\n",
              "      --hover-bg-color: #E2EBFA;\n",
              "      --hover-fill-color: #174EA6;\n",
              "      --disabled-fill-color: #AAA;\n",
              "      --disabled-bg-color: #DDD;\n",
              "  }\n",
              "\n",
              "  [theme=dark] .colab-df-quickchart {\n",
              "      --bg-color: #3B4455;\n",
              "      --fill-color: #D2E3FC;\n",
              "      --hover-bg-color: #434B5C;\n",
              "      --hover-fill-color: #FFFFFF;\n",
              "      --disabled-bg-color: #3B4455;\n",
              "      --disabled-fill-color: #666;\n",
              "  }\n",
              "\n",
              "  .colab-df-quickchart {\n",
              "    background-color: var(--bg-color);\n",
              "    border: none;\n",
              "    border-radius: 50%;\n",
              "    cursor: pointer;\n",
              "    display: none;\n",
              "    fill: var(--fill-color);\n",
              "    height: 32px;\n",
              "    padding: 0;\n",
              "    width: 32px;\n",
              "  }\n",
              "\n",
              "  .colab-df-quickchart:hover {\n",
              "    background-color: var(--hover-bg-color);\n",
              "    box-shadow: 0 1px 2px rgba(60, 64, 67, 0.3), 0 1px 3px 1px rgba(60, 64, 67, 0.15);\n",
              "    fill: var(--button-hover-fill-color);\n",
              "  }\n",
              "\n",
              "  .colab-df-quickchart-complete:disabled,\n",
              "  .colab-df-quickchart-complete:disabled:hover {\n",
              "    background-color: var(--disabled-bg-color);\n",
              "    fill: var(--disabled-fill-color);\n",
              "    box-shadow: none;\n",
              "  }\n",
              "\n",
              "  .colab-df-spinner {\n",
              "    border: 2px solid var(--fill-color);\n",
              "    border-color: transparent;\n",
              "    border-bottom-color: var(--fill-color);\n",
              "    animation:\n",
              "      spin 1s steps(1) infinite;\n",
              "  }\n",
              "\n",
              "  @keyframes spin {\n",
              "    0% {\n",
              "      border-color: transparent;\n",
              "      border-bottom-color: var(--fill-color);\n",
              "      border-left-color: var(--fill-color);\n",
              "    }\n",
              "    20% {\n",
              "      border-color: transparent;\n",
              "      border-left-color: var(--fill-color);\n",
              "      border-top-color: var(--fill-color);\n",
              "    }\n",
              "    30% {\n",
              "      border-color: transparent;\n",
              "      border-left-color: var(--fill-color);\n",
              "      border-top-color: var(--fill-color);\n",
              "      border-right-color: var(--fill-color);\n",
              "    }\n",
              "    40% {\n",
              "      border-color: transparent;\n",
              "      border-right-color: var(--fill-color);\n",
              "      border-top-color: var(--fill-color);\n",
              "    }\n",
              "    60% {\n",
              "      border-color: transparent;\n",
              "      border-right-color: var(--fill-color);\n",
              "    }\n",
              "    80% {\n",
              "      border-color: transparent;\n",
              "      border-right-color: var(--fill-color);\n",
              "      border-bottom-color: var(--fill-color);\n",
              "    }\n",
              "    90% {\n",
              "      border-color: transparent;\n",
              "      border-bottom-color: var(--fill-color);\n",
              "    }\n",
              "  }\n",
              "</style>\n",
              "\n",
              "  <script>\n",
              "    async function quickchart(key) {\n",
              "      const quickchartButtonEl =\n",
              "        document.querySelector('#' + key + ' button');\n",
              "      quickchartButtonEl.disabled = true;  // To prevent multiple clicks.\n",
              "      quickchartButtonEl.classList.add('colab-df-spinner');\n",
              "      try {\n",
              "        const charts = await google.colab.kernel.invokeFunction(\n",
              "            'suggestCharts', [key], {});\n",
              "      } catch (error) {\n",
              "        console.error('Error during call to suggestCharts:', error);\n",
              "      }\n",
              "      quickchartButtonEl.classList.remove('colab-df-spinner');\n",
              "      quickchartButtonEl.classList.add('colab-df-quickchart-complete');\n",
              "    }\n",
              "    (() => {\n",
              "      let quickchartButtonEl =\n",
              "        document.querySelector('#df-91e203d0-cab6-446d-9ac7-1f188aa5d9f5 button');\n",
              "      quickchartButtonEl.style.display =\n",
              "        google.colab.kernel.accessAllowed ? 'block' : 'none';\n",
              "    })();\n",
              "  </script>\n",
              "</div>\n",
              "    </div>\n",
              "  </div>\n"
            ]
          },
          "metadata": {},
          "execution_count": 11
        }
      ]
    },
    {
      "cell_type": "code",
      "source": [
        "import numpy as np\n",
        "\n",
        "# Calcular la media y la desviación estándar\n",
        "media = np.mean(numericas)\n",
        "desviacion_estandar = np.std(numericas)\n",
        "\n",
        "# Calcular el coeficiente de variación\n",
        "coeficiente_de_variacion = (desviacion_estandar / media) * 100\n",
        "\n",
        "# Imprimir el resultado\n",
        "print(\"Coeficiente de Variación:\\n\",coeficiente_de_variacion)\n"
      ],
      "metadata": {
        "colab": {
          "base_uri": "https://localhost:8080/",
          "height": 0
        },
        "id": "DPCo1uinufGR",
        "outputId": "ffdf749a-94df-48b7-e18d-55804406934c"
      },
      "execution_count": 12,
      "outputs": [
        {
          "output_type": "stream",
          "name": "stdout",
          "text": [
            "Coeficiente de Variación:\n",
            " CO      -296.125309\n",
            "NO      1995.518668\n",
            "NO2      543.877981\n",
            "NOX      259.282325\n",
            "O3       347.344949\n",
            "PM10     431.808638\n",
            "SO2     -418.085913\n",
            "dtype: float64\n"
          ]
        },
        {
          "output_type": "stream",
          "name": "stderr",
          "text": [
            "/usr/local/lib/python3.10/dist-packages/numpy/core/fromnumeric.py:3430: FutureWarning: In a future version, DataFrame.mean(axis=None) will return a scalar mean over the entire DataFrame. To retain the old behavior, use 'frame.mean(axis=0)' or just 'frame.mean()'\n",
            "  return mean(axis=axis, dtype=dtype, out=out, **kwargs)\n"
          ]
        }
      ]
    },
    {
      "cell_type": "markdown",
      "source": [
        "##c)\n",
        "Describa gráficamente los datos (los categóricos con diagramas de barra o pastel), los numéricos con un gráfico que contenga todos los boxplot de cada variable numérica. Interprete los resultados. ¿Habrá necesidad de escalar los datos para una mejor comparación de los datos? Si fuera el caso, escálelos y vuelva a hacer el diagrama."
      ],
      "metadata": {
        "id": "gy8ejcjprk6a"
      }
    },
    {
      "cell_type": "code",
      "source": [
        "import matplotlib.pyplot as plt\n",
        "import pandas as pd\n",
        "\n",
        "# Crear boxplots para todas las columnas\n",
        "plt.figure(figsize=(12, 6))\n",
        "numericas.boxplot()  # Crea boxplots para todas las columnas del DataFrame\n",
        "plt.title('Boxplots para todas las columnas')\n",
        "plt.xticks(rotation=45)  # Rota las etiquetas del eje x\n",
        "plt.show()\n"
      ],
      "metadata": {
        "colab": {
          "base_uri": "https://localhost:8080/",
          "height": 567
        },
        "id": "kIfyII-8wFvw",
        "outputId": "da69849d-c89c-4981-fbb7-a370f44b7f63"
      },
      "execution_count": 13,
      "outputs": [
        {
          "output_type": "display_data",
          "data": {
            "text/plain": [
              "<Figure size 1200x600 with 1 Axes>"
            ],
            "image/png": "[encoded data removed]"
          },
          "metadata": {}
        }
      ]
    },
    {
      "cell_type": "code",
      "source": [
        "#Aqui creamos un boxplot para todas las columnas que tiene el dataset pero no podemos ver con facilidad los datos"
      ],
      "metadata": {
        "id": "UGTpBnDB0JWS"
      },
      "execution_count": 14,
      "outputs": []
    },
    {
      "cell_type": "code",
      "source": [
        "from sklearn.preprocessing import MinMaxScaler\n",
        "import pandas as pd\n",
        "\n",
        "# Crear un objeto MinMaxScaler\n",
        "scaler = MinMaxScaler()\n",
        "\n",
        "# Aplicar el escalado a todas las columnas del DataFrame\n",
        "numericas_scaled = pd.DataFrame(scaler.fit_transform(numericas), columns=numericas.columns)\n",
        "\n",
        "\n",
        "#Ahora aplicamos un MinMaxScaler para poder visualizar mejor los datos"
      ],
      "metadata": {
        "id": "oM-QbHGF1cq0"
      },
      "execution_count": 15,
      "outputs": []
    },
    {
      "cell_type": "code",
      "source": [
        "numericas_scaled\n",
        "#Mostramos el dataset ya escalado de los datos numericos"
      ],
      "metadata": {
        "colab": {
          "base_uri": "https://localhost:8080/",
          "height": 424
        },
        "id": "LiYl-5ki1kch",
        "outputId": "142ac3c2-6893-41f9-b6b1-1f52dc82fb2a"
      },
      "execution_count": 16,
      "outputs": [
        {
          "output_type": "execute_result",
          "data": {
            "text/plain": [
              "            CO        NO       NO2       NOX        O3      PM10       SO2\n",
              "0     0.977206  0.285714  0.686567  0.348946  0.420408  0.541436  0.518135\n",
              "1     0.977206  0.285714  0.681592  0.344262  0.424490  0.569061  0.518135\n",
              "2     0.977206  0.296104  0.676617  0.353630  0.420408  0.624309  0.518135\n",
              "3     0.979260  0.337662  0.686567  0.395785  0.412245  0.604972  0.518135\n",
              "4     0.975934  0.280519  0.661692  0.332553  0.420408  0.519337  0.512953\n",
              "...        ...       ...       ...       ...       ...       ...       ...\n",
              "8011  0.970456  0.264935  0.572139  0.276347  0.485714  0.450276  0.518135\n",
              "8012  0.970065  0.259740  0.557214  0.264637  0.489796  0.417127  0.518135\n",
              "8013  0.970065  0.262338  0.552239  0.264637  0.485714  0.364641  0.518135\n",
              "8014  0.969673  0.259740  0.552239  0.262295  0.481633  0.359116  0.518135\n",
              "8015  0.969380  0.259740  0.542289  0.257611  0.485714  0.309392  0.518135\n",
              "\n",
              "[8016 rows x 7 columns]"
            ],
            "text/html": [
              "\n",
              "  <div id=\"df-5cc0d63a-4b61-49bb-b25e-69629000cd3d\" class=\"colab-df-container\">\n",
              "    <div>\n",
              "<style scoped>\n",
              "    .dataframe tbody tr th:only-of-type {\n",
              "        vertical-align: middle;\n",
              "    }\n",
              "\n",
              "    .dataframe tbody tr th {\n",
              "        vertical-align: top;\n",
              "    }\n",
              "\n",
              "    .dataframe thead th {\n",
              "        text-align: right;\n",
              "    }\n",
              "</style>\n",
              "<table border=\"1\" class=\"dataframe\">\n",
              "  <thead>\n",
              "    <tr style=\"text-align: right;\">\n",
              "      <th></th>\n",
              "      <th>CO</th>\n",
              "      <th>NO</th>\n",
              "      <th>NO2</th>\n",
              "      <th>NOX</th>\n",
              "      <th>O3</th>\n",
              "      <th>PM10</th>\n",
              "      <th>SO2</th>\n",
              "    </tr>\n",
              "  </thead>\n",
              "  <tbody>\n",
              "    <tr>\n",
              "      <th>0</th>\n",
              "      <td>0.977206</td>\n",
              "      <td>0.285714</td>\n",
              "      <td>0.686567</td>\n",
              "      <td>0.348946</td>\n",
              "      <td>0.420408</td>\n",
              "      <td>0.541436</td>\n",
              "      <td>0.518135</td>\n",
              "    </tr>\n",
              "    <tr>\n",
              "      <th>1</th>\n",
              "      <td>0.977206</td>\n",
              "      <td>0.285714</td>\n",
              "      <td>0.681592</td>\n",
              "      <td>0.344262</td>\n",
              "      <td>0.424490</td>\n",
              "      <td>0.569061</td>\n",
              "      <td>0.518135</td>\n",
              "    </tr>\n",
              "    <tr>\n",
              "      <th>2</th>\n",
              "      <td>0.977206</td>\n",
              "      <td>0.296104</td>\n",
              "      <td>0.676617</td>\n",
              "      <td>0.353630</td>\n",
              "      <td>0.420408</td>\n",
              "      <td>0.624309</td>\n",
              "      <td>0.518135</td>\n",
              "    </tr>\n",
              "    <tr>\n",
              "      <th>3</th>\n",
              "      <td>0.979260</td>\n",
              "      <td>0.337662</td>\n",
              "      <td>0.686567</td>\n",
              "      <td>0.395785</td>\n",
              "      <td>0.412245</td>\n",
              "      <td>0.604972</td>\n",
              "      <td>0.518135</td>\n",
              "    </tr>\n",
              "    <tr>\n",
              "      <th>4</th>\n",
              "      <td>0.975934</td>\n",
              "      <td>0.280519</td>\n",
              "      <td>0.661692</td>\n",
              "      <td>0.332553</td>\n",
              "      <td>0.420408</td>\n",
              "      <td>0.519337</td>\n",
              "      <td>0.512953</td>\n",
              "    </tr>\n",
              "    <tr>\n",
              "      <th>...</th>\n",
              "      <td>...</td>\n",
              "      <td>...</td>\n",
              "      <td>...</td>\n",
              "      <td>...</td>\n",
              "      <td>...</td>\n",
              "      <td>...</td>\n",
              "      <td>...</td>\n",
              "    </tr>\n",
              "    <tr>\n",
              "      <th>8011</th>\n",
              "      <td>0.970456</td>\n",
              "      <td>0.264935</td>\n",
              "      <td>0.572139</td>\n",
              "      <td>0.276347</td>\n",
              "      <td>0.485714</td>\n",
              "      <td>0.450276</td>\n",
              "      <td>0.518135</td>\n",
              "    </tr>\n",
              "    <tr>\n",
              "      <th>8012</th>\n",
              "      <td>0.970065</td>\n",
              "      <td>0.259740</td>\n",
              "      <td>0.557214</td>\n",
              "      <td>0.264637</td>\n",
              "      <td>0.489796</td>\n",
              "      <td>0.417127</td>\n",
              "      <td>0.518135</td>\n",
              "    </tr>\n",
              "    <tr>\n",
              "      <th>8013</th>\n",
              "      <td>0.970065</td>\n",
              "      <td>0.262338</td>\n",
              "      <td>0.552239</td>\n",
              "      <td>0.264637</td>\n",
              "      <td>0.485714</td>\n",
              "      <td>0.364641</td>\n",
              "      <td>0.518135</td>\n",
              "    </tr>\n",
              "    <tr>\n",
              "      <th>8014</th>\n",
              "      <td>0.969673</td>\n",
              "      <td>0.259740</td>\n",
              "      <td>0.552239</td>\n",
              "      <td>0.262295</td>\n",
              "      <td>0.481633</td>\n",
              "      <td>0.359116</td>\n",
              "      <td>0.518135</td>\n",
              "    </tr>\n",
              "    <tr>\n",
              "      <th>8015</th>\n",
              "      <td>0.969380</td>\n",
              "      <td>0.259740</td>\n",
              "      <td>0.542289</td>\n",
              "      <td>0.257611</td>\n",
              "      <td>0.485714</td>\n",
              "      <td>0.309392</td>\n",
              "      <td>0.518135</td>\n",
              "    </tr>\n",
              "  </tbody>\n",
              "</table>\n",
              "<p>8016 rows × 7 columns</p>\n",
              "</div>\n",
              "    <div class=\"colab-df-buttons\">\n",
              "\n",
              "  <div class=\"colab-df-container\">\n",
              "    <button class=\"colab-df-convert\" onclick=\"convertToInteractive('df-5cc0d63a-4b61-49bb-b25e-69629000cd3d')\"\n",
              "            title=\"Convert this dataframe to an interactive table.\"\n",
              "            style=\"display:none;\">\n",
              "\n",
              "  <svg xmlns=\"http://www.w3.org/2000/svg\" height=\"24px\" viewBox=\"0 -960 960 960\">\n",
              "    <path d=\"M120-120v-720h720v720H120Zm60-500h600v-160H180v160Zm220 220h160v-160H400v160Zm0 220h160v-160H400v160ZM180-400h160v-160H180v160Zm440 0h160v-160H620v160ZM180-180h160v-160H180v160Zm440 0h160v-160H620v160Z\"/>\n",
              "  </svg>\n",
              "    </button>\n",
              "\n",
              "  <style>\n",
              "    .colab-df-container {\n",
              "      display:flex;\n",
              "      gap: 12px;\n",
              "    }\n",
              "\n",
              "    .colab-df-convert {\n",
              "      background-color: #E8F0FE;\n",
              "      border: none;\n",
              "      border-radius: 50%;\n",
              "      cursor: pointer;\n",
              "      display: none;\n",
              "      fill: #1967D2;\n",
              "      height: 32px;\n",
              "      padding: 0 0 0 0;\n",
              "      width: 32px;\n",
              "    }\n",
              "\n",
              "    .colab-df-convert:hover {\n",
              "      background-color: #E2EBFA;\n",
              "      box-shadow: 0px 1px 2px rgba(60, 64, 67, 0.3), 0px 1px 3px 1px rgba(60, 64, 67, 0.15);\n",
              "      fill: #174EA6;\n",
              "    }\n",
              "\n",
              "    .colab-df-buttons div {\n",
              "      margin-bottom: 4px;\n",
              "    }\n",
              "\n",
              "    [theme=dark] .colab-df-convert {\n",
              "      background-color: #3B4455;\n",
              "      fill: #D2E3FC;\n",
              "    }\n",
              "\n",
              "    [theme=dark] .colab-df-convert:hover {\n",
              "      background-color: #434B5C;\n",
              "      box-shadow: 0px 1px 3px 1px rgba(0, 0, 0, 0.15);\n",
              "      filter: drop-shadow(0px 1px 2px rgba(0, 0, 0, 0.3));\n",
              "      fill: #FFFFFF;\n",
              "    }\n",
              "  </style>\n",
              "\n",
              "    <script>\n",
              "      const buttonEl =\n",
              "        document.querySelector('#df-5cc0d63a-4b61-49bb-b25e-69629000cd3d button.colab-df-convert');\n",
              "      buttonEl.style.display =\n",
              "        google.colab.kernel.accessAllowed ? 'block' : 'none';\n",
              "\n",
              "      async function convertToInteractive(key) {\n",
              "        const element = document.querySelector('#df-5cc0d63a-4b61-49bb-b25e-69629000cd3d');\n",
              "        const dataTable =\n",
              "          await google.colab.kernel.invokeFunction('convertToInteractive',\n",
              "                                                    [key], {});\n",
              "        if (!dataTable) return;\n",
              "\n",
              "        const docLinkHtml = 'Like what you see? Visit the ' +\n",
              "          '<a target=\"_blank\" href=https://colab.research.google.com/notebooks/data_table.ipynb>data table notebook</a>'\n",
              "          + ' to learn more about interactive tables.';\n",
              "        element.innerHTML = '';\n",
              "        dataTable['output_type'] = 'display_data';\n",
              "        await google.colab.output.renderOutput(dataTable, element);\n",
              "        const docLink = document.createElement('div');\n",
              "        docLink.innerHTML = docLinkHtml;\n",
              "        element.appendChild(docLink);\n",
              "      }\n",
              "    </script>\n",
              "  </div>\n",
              "\n",
              "\n",
              "<div id=\"df-a2888cb7-a3b0-409e-bb21-0e8983840a66\">\n",
              "  <button class=\"colab-df-quickchart\" onclick=\"quickchart('df-a2888cb7-a3b0-409e-bb21-0e8983840a66')\"\n",
              "            title=\"Suggest charts.\"\n",
              "            style=\"display:none;\">\n",
              "\n",
              "<svg xmlns=\"http://www.w3.org/2000/svg\" height=\"24px\"viewBox=\"0 0 24 24\"\n",
              "     width=\"24px\">\n",
              "    <g>\n",
              "        <path d=\"M19 3H5c-1.1 0-2 .9-2 2v14c0 1.1.9 2 2 2h14c1.1 0 2-.9 2-2V5c0-1.1-.9-2-2-2zM9 17H7v-7h2v7zm4 0h-2V7h2v10zm4 0h-2v-4h2v4z\"/>\n",
              "    </g>\n",
              "</svg>\n",
              "  </button>\n",
              "\n",
              "<style>\n",
              "  .colab-df-quickchart {\n",
              "      --bg-color: #E8F0FE;\n",
              "      --fill-color: #1967D2;\n",
              "      --hover-bg-color: #E2EBFA;\n",
              "      --hover-fill-color: #174EA6;\n",
              "      --disabled-fill-color: #AAA;\n",
              "      --disabled-bg-color: #DDD;\n",
              "  }\n",
              "\n",
              "  [theme=dark] .colab-df-quickchart {\n",
              "      --bg-color: #3B4455;\n",
              "      --fill-color: #D2E3FC;\n",
              "      --hover-bg-color: #434B5C;\n",
              "      --hover-fill-color: #FFFFFF;\n",
              "      --disabled-bg-color: #3B4455;\n",
              "      --disabled-fill-color: #666;\n",
              "  }\n",
              "\n",
              "  .colab-df-quickchart {\n",
              "    background-color: var(--bg-color);\n",
              "    border: none;\n",
              "    border-radius: 50%;\n",
              "    cursor: pointer;\n",
              "    display: none;\n",
              "    fill: var(--fill-color);\n",
              "    height: 32px;\n",
              "    padding: 0;\n",
              "    width: 32px;\n",
              "  }\n",
              "\n",
              "  .colab-df-quickchart:hover {\n",
              "    background-color: var(--hover-bg-color);\n",
              "    box-shadow: 0 1px 2px rgba(60, 64, 67, 0.3), 0 1px 3px 1px rgba(60, 64, 67, 0.15);\n",
              "    fill: var(--button-hover-fill-color);\n",
              "  }\n",
              "\n",
              "  .colab-df-quickchart-complete:disabled,\n",
              "  .colab-df-quickchart-complete:disabled:hover {\n",
              "    background-color: var(--disabled-bg-color);\n",
              "    fill: var(--disabled-fill-color);\n",
              "    box-shadow: none;\n",
              "  }\n",
              "\n",
              "  .colab-df-spinner {\n",
              "    border: 2px solid var(--fill-color);\n",
              "    border-color: transparent;\n",
              "    border-bottom-color: var(--fill-color);\n",
              "    animation:\n",
              "      spin 1s steps(1) infinite;\n",
              "  }\n",
              "\n",
              "  @keyframes spin {\n",
              "    0% {\n",
              "      border-color: transparent;\n",
              "      border-bottom-color: var(--fill-color);\n",
              "      border-left-color: var(--fill-color);\n",
              "    }\n",
              "    20% {\n",
              "      border-color: transparent;\n",
              "      border-left-color: var(--fill-color);\n",
              "      border-top-color: var(--fill-color);\n",
              "    }\n",
              "    30% {\n",
              "      border-color: transparent;\n",
              "      border-left-color: var(--fill-color);\n",
              "      border-top-color: var(--fill-color);\n",
              "      border-right-color: var(--fill-color);\n",
              "    }\n",
              "    40% {\n",
              "      border-color: transparent;\n",
              "      border-right-color: var(--fill-color);\n",
              "      border-top-color: var(--fill-color);\n",
              "    }\n",
              "    60% {\n",
              "      border-color: transparent;\n",
              "      border-right-color: var(--fill-color);\n",
              "    }\n",
              "    80% {\n",
              "      border-color: transparent;\n",
              "      border-right-color: var(--fill-color);\n",
              "      border-bottom-color: var(--fill-color);\n",
              "    }\n",
              "    90% {\n",
              "      border-color: transparent;\n",
              "      border-bottom-color: var(--fill-color);\n",
              "    }\n",
              "  }\n",
              "</style>\n",
              "\n",
              "  <script>\n",
              "    async function quickchart(key) {\n",
              "      const quickchartButtonEl =\n",
              "        document.querySelector('#' + key + ' button');\n",
              "      quickchartButtonEl.disabled = true;  // To prevent multiple clicks.\n",
              "      quickchartButtonEl.classList.add('colab-df-spinner');\n",
              "      try {\n",
              "        const charts = await google.colab.kernel.invokeFunction(\n",
              "            'suggestCharts', [key], {});\n",
              "      } catch (error) {\n",
              "        console.error('Error during call to suggestCharts:', error);\n",
              "      }\n",
              "      quickchartButtonEl.classList.remove('colab-df-spinner');\n",
              "      quickchartButtonEl.classList.add('colab-df-quickchart-complete');\n",
              "    }\n",
              "    (() => {\n",
              "      let quickchartButtonEl =\n",
              "        document.querySelector('#df-a2888cb7-a3b0-409e-bb21-0e8983840a66 button');\n",
              "      quickchartButtonEl.style.display =\n",
              "        google.colab.kernel.accessAllowed ? 'block' : 'none';\n",
              "    })();\n",
              "  </script>\n",
              "</div>\n",
              "    </div>\n",
              "  </div>\n"
            ]
          },
          "metadata": {},
          "execution_count": 16
        }
      ]
    },
    {
      "cell_type": "code",
      "source": [
        "import matplotlib.pyplot as plt\n",
        "import pandas as pd\n",
        "\n",
        "# Crear boxplots para todas las columnas\n",
        "plt.figure(figsize=(12, 6))  # Ajusta el tamaño de la figura\n",
        "numericas_scaled.boxplot()  # Crea boxplots para todas las columnas del DataFrame\n",
        "plt.title('Boxplots para todas las columnas')\n",
        "plt.xticks(rotation=45)  # Rota las etiquetas del eje x\n",
        "plt.show()"
      ],
      "metadata": {
        "colab": {
          "base_uri": "https://localhost:8080/",
          "height": 567
        },
        "id": "a1JuZirC1owF",
        "outputId": "aa6e8022-f504-402c-aa72-75c4c519921f"
      },
      "execution_count": 17,
      "outputs": [
        {
          "output_type": "display_data",
          "data": {
            "text/plain": [
              "<Figure size 1200x600 with 1 Axes>"
            ],
            "image/png": "[encoded data removed]"
          },
          "metadata": {}
        }
      ]
    },
    {
      "cell_type": "code",
      "source": [
        "#Ahora volvemos a mostrar el boxplot ya que los datos estan escalados para poder visualizarlo mejor."
      ],
      "metadata": {
        "id": "OUJ-OkRi21Xh"
      },
      "execution_count": 18,
      "outputs": []
    },
    {
      "cell_type": "code",
      "source": [
        "def boxplot(df,columna):\n",
        "  plt.figure(figsize=(6, 4))  # Ajusta el tamaño de la figura para cada boxplot\n",
        "  plt.boxplot(df[columna])  # Crea el boxplot para la columna actual\n",
        "  plt.title(f'Boxplot de {columna}')\n",
        "  plt.ylabel(columna)\n",
        "  plt.show()"
      ],
      "metadata": {
        "id": "68_Ky9VPzTP9"
      },
      "execution_count": 19,
      "outputs": []
    },
    {
      "cell_type": "code",
      "source": [
        "numericas.columns"
      ],
      "metadata": {
        "colab": {
          "base_uri": "https://localhost:8080/",
          "height": 0
        },
        "id": "POsmYjf-zxqG",
        "outputId": "f2244a48-9509-4183-fe71-c9432fb44f30"
      },
      "execution_count": 20,
      "outputs": [
        {
          "output_type": "execute_result",
          "data": {
            "text/plain": [
              "Index(['CO', 'NO', 'NO2', 'NOX', 'O3', 'PM10', 'SO2'], dtype='object')"
            ]
          },
          "metadata": {},
          "execution_count": 20
        }
      ]
    },
    {
      "cell_type": "code",
      "source": [
        "boxplot(df,\"CO\")"
      ],
      "metadata": {
        "colab": {
          "base_uri": "https://localhost:8080/",
          "height": 391
        },
        "id": "lAr-VsfEzlsI",
        "outputId": "c34572fa-1569-4d49-d470-5765b2986717"
      },
      "execution_count": 21,
      "outputs": [
        {
          "output_type": "display_data",
          "data": {
            "text/plain": [
              "<Figure size 600x400 with 1 Axes>"
            ],
            "image/png": "[encoded data removed]"
          },
          "metadata": {}
        }
      ]
    },
    {
      "cell_type": "code",
      "source": [
        "boxplot(df,\"NO\")"
      ],
      "metadata": {
        "colab": {
          "base_uri": "https://localhost:8080/",
          "height": 391
        },
        "id": "EfwZR5_Iz15Q",
        "outputId": "442ec43d-d7a4-4f7b-bf82-8e8fdfa4476c"
      },
      "execution_count": 22,
      "outputs": [
        {
          "output_type": "display_data",
          "data": {
            "text/plain": [
              "<Figure size 600x400 with 1 Axes>"
            ],
            "image/png": "[encoded data removed]"
          },
          "metadata": {}
        }
      ]
    },
    {
      "cell_type": "code",
      "source": [
        "boxplot(df,\"NO2\")"
      ],
      "metadata": {
        "colab": {
          "base_uri": "https://localhost:8080/",
          "height": 391
        },
        "id": "nmvm8_w9z3vw",
        "outputId": "1dbe9abd-5753-4af8-b8e6-9e2924a3b1ce"
      },
      "execution_count": 23,
      "outputs": [
        {
          "output_type": "display_data",
          "data": {
            "text/plain": [
              "<Figure size 600x400 with 1 Axes>"
            ],
            "image/png": "[encoded data removed]"
          },
          "metadata": {}
        }
      ]
    },
    {
      "cell_type": "code",
      "source": [
        "boxplot(df,\"NOX\")"
      ],
      "metadata": {
        "colab": {
          "base_uri": "https://localhost:8080/",
          "height": 391
        },
        "id": "yFAGrF2kz4Gj",
        "outputId": "1a35fab3-fbde-4d4f-ee9f-df1a8b739a3f"
      },
      "execution_count": 24,
      "outputs": [
        {
          "output_type": "display_data",
          "data": {
            "text/plain": [
              "<Figure size 600x400 with 1 Axes>"
            ],
            "image/png": "[encoded data removed]"
          },
          "metadata": {}
        }
      ]
    },
    {
      "cell_type": "code",
      "source": [
        "boxplot(df,\"O3\")"
      ],
      "metadata": {
        "colab": {
          "base_uri": "https://localhost:8080/",
          "height": 391
        },
        "id": "Drf1bEVXz4VN",
        "outputId": "aa5c880b-a21f-41e2-b70e-be16abc343b3"
      },
      "execution_count": 25,
      "outputs": [
        {
          "output_type": "display_data",
          "data": {
            "text/plain": [
              "<Figure size 600x400 with 1 Axes>"
            ],
            "image/png": "[encoded data removed]"
          },
          "metadata": {}
        }
      ]
    },
    {
      "cell_type": "code",
      "source": [
        "boxplot(df,\"PM10\")"
      ],
      "metadata": {
        "colab": {
          "base_uri": "https://localhost:8080/",
          "height": 391
        },
        "id": "HpcBOvHwz4kR",
        "outputId": "b39845de-ba5a-4bf5-e651-b3597e969850"
      },
      "execution_count": 26,
      "outputs": [
        {
          "output_type": "display_data",
          "data": {
            "text/plain": [
              "<Figure size 600x400 with 1 Axes>"
            ],
            "image/png": "[encoded data removed]"
          },
          "metadata": {}
        }
      ]
    },
    {
      "cell_type": "markdown",
      "source": [
        "##d)\n",
        "Verifique normalidad de los datos y si no todos pasan la prueba haga una matriz e correlaciones de Spearman, y si sí la pasan, haga una matriz e correlaciones de Pearson. Identifique la variable que más se correlaciona con las demás."
      ],
      "metadata": {
        "id": "daJL_GYYrstp"
      }
    },
    {
      "cell_type": "code",
      "source": [
        "import scipy.stats as stats\n",
        "import numpy as np\n",
        "\n",
        "\n",
        "\n",
        "# Realizar la prueba de Shapiro-Wilk\n",
        "shapiro_test = stats.shapiro(numericas[\"CO\"])\n",
        "print(\"Prueba de Shapiro-Wilk:\")\n",
        "print(\"Estadístico de prueba:\", shapiro_test.statistic)\n",
        "print(\"Valor p:\", shapiro_test.pvalue)\n",
        "\n",
        "# Realizar la prueba de Kolmogorov-Smirnov\n",
        "ks_test = stats.kstest(numericas[\"CO\"], 'norm')\n",
        "print(\"\\nPrueba de Kolmogorov-Smirnov:\")\n",
        "print(\"Estadístico de prueba:\", ks_test.statistic)\n",
        "print(\"Valor p:\", ks_test.pvalue)\n"
      ],
      "metadata": {
        "colab": {
          "base_uri": "https://localhost:8080/",
          "height": 0
        },
        "id": "NuaSJ4Ko5LMG",
        "outputId": "b3fed809-ead7-4b87-cbe7-6b99f5711d35"
      },
      "execution_count": 27,
      "outputs": [
        {
          "output_type": "stream",
          "name": "stdout",
          "text": [
            "Prueba de Shapiro-Wilk:\n",
            "Estadístico de prueba: 0.3718259930610657\n",
            "Valor p: 0.0\n",
            "\n",
            "Prueba de Kolmogorov-Smirnov:\n",
            "Estadístico de prueba: 0.3960732598412583\n",
            "Valor p: 0.0\n"
          ]
        },
        {
          "output_type": "stream",
          "name": "stderr",
          "text": [
            "/usr/local/lib/python3.10/dist-packages/scipy/stats/_morestats.py:1882: UserWarning: p-value may not be accurate for N > 5000.\n",
            "  warnings.warn(\"p-value may not be accurate for N > 5000.\")\n"
          ]
        }
      ]
    },
    {
      "cell_type": "code",
      "source": [
        "numericas.columns"
      ],
      "metadata": {
        "colab": {
          "base_uri": "https://localhost:8080/",
          "height": 0
        },
        "id": "bqV1QEbe73lj",
        "outputId": "738c2cbe-5b62-4646-91a8-eccaa70298dc"
      },
      "execution_count": 28,
      "outputs": [
        {
          "output_type": "execute_result",
          "data": {
            "text/plain": [
              "Index(['CO', 'NO', 'NO2', 'NOX', 'O3', 'PM10', 'SO2'], dtype='object')"
            ]
          },
          "metadata": {},
          "execution_count": 28
        }
      ]
    },
    {
      "cell_type": "code",
      "source": [
        "for columnas in numericas.columns:\n",
        "  print('\\033[1m' + columnas + '\\033[0m')\n",
        "\n",
        "  # Realizar la prueba de Shapiro-Wilk\n",
        "  shapiro_test = stats.shapiro(numericas[columnas])\n",
        "  print(\"Prueba de Shapiro-Wilk:\")\n",
        "  print(\"Estadístico de prueba:\", shapiro_test.statistic)\n",
        "  print(\"Valor p:\", shapiro_test.pvalue)\n",
        "\n",
        "  # Realizar la prueba de Kolmogorov-Smirnov\n",
        "  ks_test = stats.kstest(numericas[columnas], 'norm')\n",
        "  print(\"\\nPrueba de Kolmogorov-Smirnov:\")\n",
        "  print(\"Estadístico de prueba:\", ks_test.statistic)\n",
        "  print(\"Valor p:\", ks_test.pvalue)\n"
      ],
      "metadata": {
        "colab": {
          "base_uri": "https://localhost:8080/",
          "height": 0
        },
        "id": "0oazPniM7ieT",
        "outputId": "c600c4e6-8344-40ca-f3f8-d2828ad9e5cb"
      },
      "execution_count": 29,
      "outputs": [
        {
          "output_type": "stream",
          "name": "stdout",
          "text": [
            "\u001b[1mCO\u001b[0m\n",
            "Prueba de Shapiro-Wilk:\n",
            "Estadístico de prueba: 0.3718259930610657\n",
            "Valor p: 0.0\n",
            "\n",
            "Prueba de Kolmogorov-Smirnov:\n",
            "Estadístico de prueba: 0.3960732598412583\n",
            "Valor p: 0.0\n",
            "\u001b[1mNO\u001b[0m\n",
            "Prueba de Shapiro-Wilk:\n",
            "Estadístico de prueba: 0.7444002628326416\n",
            "Valor p: 0.0\n",
            "\n",
            "Prueba de Kolmogorov-Smirnov:\n",
            "Estadístico de prueba: 0.6863317043791661\n",
            "Valor p: 0.0\n",
            "\u001b[1mNO2\u001b[0m\n",
            "Prueba de Shapiro-Wilk:\n",
            "Estadístico de prueba: 0.6401568651199341\n",
            "Valor p: 0.0\n",
            "\n",
            "Prueba de Kolmogorov-Smirnov:\n",
            "Estadístico de prueba: 0.8817048557042747\n",
            "Valor p: 0.0\n",
            "\u001b[1mNOX\u001b[0m\n",
            "Prueba de Shapiro-Wilk:\n",
            "Estadístico de prueba: 0.832919716835022\n",
            "Valor p: 0.0\n",
            "\n",
            "Prueba de Kolmogorov-Smirnov:\n",
            "Estadístico de prueba: 0.8818296062032767\n",
            "Valor p: 0.0\n",
            "\u001b[1mO3\u001b[0m\n",
            "Prueba de Shapiro-Wilk:\n",
            "Estadístico de prueba: 0.8049697279930115\n",
            "Valor p: 0.0\n",
            "\n",
            "Prueba de Kolmogorov-Smirnov:\n",
            "Estadístico de prueba: 0.813202961864196\n",
            "Valor p: 0.0\n",
            "\u001b[1mPM10\u001b[0m\n",
            "Prueba de Shapiro-Wilk:\n",
            "Estadístico de prueba: 0.8284163475036621\n",
            "Valor p: 0.0\n",
            "\n",
            "Prueba de Kolmogorov-Smirnov:\n",
            "Estadístico de prueba: 0.8044135750222621\n",
            "Valor p: 0.0\n",
            "\u001b[1mSO2\u001b[0m\n",
            "Prueba de Shapiro-Wilk:\n",
            "Estadístico de prueba: 0.4673428535461426\n",
            "Valor p: 0.0\n",
            "\n",
            "Prueba de Kolmogorov-Smirnov:\n",
            "Estadístico de prueba: 0.650850734092495\n",
            "Valor p: 0.0\n"
          ]
        }
      ]
    },
    {
      "cell_type": "code",
      "source": [
        "#No pasaron la prueba de normalidad"
      ],
      "metadata": {
        "id": "BLUePWrB-G8p"
      },
      "execution_count": 30,
      "outputs": []
    },
    {
      "cell_type": "code",
      "source": [
        "import seaborn as sns\n",
        "import matplotlib.pyplot as plt\n",
        "\n",
        "# Calcular la matriz de correlación de Spearman\n",
        "correlation_matrix = numericas.corr(method='spearman')\n",
        "\n",
        "# Crear un mapa de calor para visualizar la matriz de correlación\n",
        "plt.figure(figsize=(10, 8))\n",
        "sns.heatmap(correlation_matrix, annot=True, cmap='coolwarm', fmt=\".2f\", square=True)\n",
        "plt.title('Matriz de Correlación de Spearman')\n",
        "plt.show()\n"
      ],
      "metadata": {
        "colab": {
          "base_uri": "https://localhost:8080/",
          "height": 699
        },
        "id": "76xqJ8-l-JZL",
        "outputId": "3854ae2e-f9f3-417f-fe93-1f67fd48c1c5"
      },
      "execution_count": 31,
      "outputs": [
        {
          "output_type": "display_data",
          "data": {
            "text/plain": [
              "<Figure size 1000x800 with 2 Axes>"
            ],
            "image/png": "[encoded data removed]"
          },
          "metadata": {}
        }
      ]
    },
    {
      "cell_type": "markdown",
      "source": [
        "Podemos ver en la matriz de correlacion, que las columnas que tienen una correlacion mas fuerte son las columnas:\n",
        "- NO2 vs NOX\n",
        "- NO vs NOX\n",
        "- CO vs NOX\n"
      ],
      "metadata": {
        "id": "P4vAHqRh-zlS"
      }
    },
    {
      "cell_type": "markdown",
      "source": [
        "#Parte 2. Regresión simple y curvilínea"
      ],
      "metadata": {
        "id": "nYJNBLCWrWZh"
      }
    },
    {
      "cell_type": "markdown",
      "source": [
        "##A)\n",
        "Con la variable que más se correlacionó con las demás como variable Respuesta (y), y la variable de más alta correlación con ella (será x) hacer un modelo de correlación lineal simple y obtener su ecuación. Encuentre el valor de R^2  y verifique que  beta1 (el coeficiente de la pendiente de la recta sea significativo (con alfa = 0.05)).\n",
        "\n"
      ],
      "metadata": {
        "id": "Tkfh_QVIru0W"
      }
    },
    {
      "cell_type": "code",
      "source": [
        "import numpy as np\n",
        "from sklearn.linear_model import LinearRegression\n",
        "import matplotlib.pyplot as plt\n",
        "\n",
        "X = np.array(numericas[\"NO2\"])\n",
        "y = np.array(numericas[\"NOX\"])\n",
        "\n",
        "# Crear una instancia del modelo de regresión lineal\n",
        "modelo = LinearRegression()\n",
        "\n",
        "# Entrenar el modelo utilizando los datos\n",
        "modelo.fit(X.reshape(-1, 1), y)\n",
        "\n",
        "# Realizar predicciones\n",
        "y_pred = modelo.predict(X.reshape(-1, 1))\n",
        "\n",
        "# Visualizar los resultados\n",
        "plt.scatter(X, y, label='Datos reales')\n",
        "plt.plot(X, y_pred, color='red', label='Predicciones')\n",
        "plt.xlabel('Variable Independiente (X)')\n",
        "plt.ylabel('Variable Dependiente (y)')\n",
        "plt.legend()\n",
        "plt.show()\n",
        "\n"
      ],
      "metadata": {
        "colab": {
          "base_uri": "https://localhost:8080/",
          "height": 449
        },
        "id": "a24Cogw1_OFy",
        "outputId": "9f5ed9ed-fc58-4f67-8cb9-7087d0fe38e9"
      },
      "execution_count": 32,
      "outputs": [
        {
          "output_type": "display_data",
          "data": {
            "text/plain": [
              "<Figure size 640x480 with 1 Axes>"
            ],
            "image/png": "[encoded data removed]"
          },
          "metadata": {}
        }
      ]
    },
    {
      "cell_type": "code",
      "source": [
        "from sklearn.metrics import r2_score\n",
        "\n",
        "# Calcular el valor R-squared\n",
        "r_squared = r2_score(y, y_pred)\n",
        "\n",
        "print(f\"Coeficiente de determinación R-squared: {r_squared}\")"
      ],
      "metadata": {
        "colab": {
          "base_uri": "https://localhost:8080/",
          "height": 0
        },
        "id": "jelw3ba-ECwt",
        "outputId": "55494eca-85f2-474d-ae1a-d26328a3ff76"
      },
      "execution_count": 33,
      "outputs": [
        {
          "output_type": "stream",
          "name": "stdout",
          "text": [
            "Coeficiente de determinación R-squared: 0.7694207749843991\n"
          ]
        }
      ]
    },
    {
      "cell_type": "code",
      "source": [
        "#Podemos ver que este modelo tiene cierto nivel de confianza pero no esta muy alto"
      ],
      "metadata": {
        "id": "fAidGDuEEGYF"
      },
      "execution_count": 34,
      "outputs": []
    },
    {
      "cell_type": "markdown",
      "source": [
        "##B)\n",
        "Pruebe ahora con un modelo curvilíneo que mejore el R^2. Del mejor modelo obtenido haga un análisis residual (Grafico de residuales (valores estimados de y vs. valores de los residuos), Prueba de hipótesis de media 0 para los residuos, prueba de normalidad para los residuos su gráfico qqplot ,  argumentación sobre si cumplen homocedasticidad)"
      ],
      "metadata": {
        "id": "hKf3yJYZrztm"
      }
    },
    {
      "cell_type": "code",
      "source": [
        "import numpy as np\n",
        "from sklearn.linear_model import LinearRegression\n",
        "from sklearn.preprocessing import PolynomialFeatures\n",
        "import matplotlib.pyplot as plt\n",
        "\n",
        "X = np.array(numericas[\"NO2\"])  # Variable independiente (X)\n",
        "y = np.array(numericas[\"NOX\"])  # Variable dependiente (y)\n",
        "\n",
        "# Transformar los datos de X\n",
        "poly = PolynomialFeatures(degree=2)\n",
        "X_poly = poly.fit_transform(X.reshape(-1, 1))\n",
        "\n",
        "modelo = LinearRegression()\n",
        "\n",
        "# Entrenar el modelo utilizando los datos transformados\n",
        "modelo.fit(X_poly, y)\n",
        "\n",
        "# Realizar predicciones\n",
        "y_pred = modelo.predict(X_poly)\n",
        "\n",
        "# Visualizar los resultados\n",
        "plt.scatter(X, y, label='Datos reales')\n",
        "plt.plot(X, y_pred, color='red', label='Predicciones')\n",
        "plt.xlabel('Variable Independiente (X)')\n",
        "plt.ylabel('Variable Dependiente (y)')\n",
        "plt.legend()\n",
        "plt.title('Modelo de Regresión Curvilíneo (Grado 2)')\n",
        "plt.show()\n"
      ],
      "metadata": {
        "colab": {
          "base_uri": "https://localhost:8080/",
          "height": 472
        },
        "id": "65_lSBlZBpGL",
        "outputId": "44e5078c-3a5a-48a4-85c4-7b9b517c3bdb"
      },
      "execution_count": 35,
      "outputs": [
        {
          "output_type": "display_data",
          "data": {
            "text/plain": [
              "<Figure size 640x480 with 1 Axes>"
            ],
            "image/png": "[encoded data removed]"
          },
          "metadata": {}
        }
      ]
    },
    {
      "cell_type": "code",
      "source": [
        "from sklearn.metrics import r2_score\n",
        "\n",
        "# Calcular el valor R-squared\n",
        "r_squared = r2_score(y, y_pred)\n",
        "\n",
        "print(f\"Coeficiente de determinación R-squared: {r_squared}\")\n"
      ],
      "metadata": {
        "colab": {
          "base_uri": "https://localhost:8080/",
          "height": 0
        },
        "id": "4Pm-BDKYDslS",
        "outputId": "fa45295f-4735-46f0-bc71-c8010fe68c7e"
      },
      "execution_count": 36,
      "outputs": [
        {
          "output_type": "stream",
          "name": "stdout",
          "text": [
            "Coeficiente de determinación R-squared: 0.7989475174744154\n"
          ]
        }
      ]
    },
    {
      "cell_type": "code",
      "source": [
        "#Aqui mejoramos un poco la confianza de el modelo pero seguimos sin llegar a un nivel de confianza aceptable"
      ],
      "metadata": {
        "id": "63isM0FbEONx"
      },
      "execution_count": 37,
      "outputs": []
    },
    {
      "cell_type": "markdown",
      "source": [
        "#Parte 3. Regresión múltiple"
      ],
      "metadata": {
        "id": "9LGePctErYdB"
      }
    },
    {
      "cell_type": "markdown",
      "source": [
        "##A)\n",
        "Con la misma variable respuesta de la parte anterior, añada todas las variables restantes como regresoras y elimine las que no resulten con beta significativa, vuelva a aplicar la regresión múltiple y excluya las variables no significativas y reduzca el modelo y así sucesivamente hasta obtener un modelo económico y eficiente. Hacer análisis de residuos al modelo final."
      ],
      "metadata": {
        "id": "lEcd946Wr3JX"
      }
    },
    {
      "cell_type": "code",
      "source": [
        "import numpy as np\n",
        "from sklearn.linear_model import LinearRegression\n",
        "import matplotlib.pyplot as plt\n",
        "\n",
        "X = np.array(numericas[[\"NO2\",\"NO\"]])  # Dos variables independientes (X1 y X2)\n",
        "y = np.array(numericas[\"NOX\"])  # Variable dependiente (y)\n",
        "\n",
        "modelo = LinearRegression()\n",
        "\n",
        "# Entrenar el modelo utilizando los datos\n",
        "modelo.fit(X, y)\n",
        "\n",
        "# Realizar predicciones\n",
        "y_pred = modelo.predict(X)\n",
        "\n",
        "# Imprimir los coeficientes de la regresión\n",
        "print(\"Coeficientes de la regresión:\")\n",
        "print(\"Intercepto:\", modelo.intercept_)\n",
        "print(\"Coeficientes de las variables independientes:\", modelo.coef_)\n",
        "\n",
        "plt.scatter(y, y_pred)\n",
        "plt.xlabel(\"Valores reales (y)\")\n",
        "plt.ylabel(\"Valores predichos\")\n",
        "plt.title(\"Valores reales vs. Valores predichos\")\n",
        "plt.show()\n"
      ],
      "metadata": {
        "colab": {
          "base_uri": "https://localhost:8080/",
          "height": 524
        },
        "id": "repE3pC-_W-W",
        "outputId": "ce4669a3-6037-49e4-852e-d6a293ee4e9c"
      },
      "execution_count": 38,
      "outputs": [
        {
          "output_type": "stream",
          "name": "stdout",
          "text": [
            "Coeficientes de la regresión:\n",
            "Intercepto: 17.313838506520522\n",
            "Coeficientes de las variables independientes: [0.22989653 1.01368819]\n"
          ]
        },
        {
          "output_type": "display_data",
          "data": {
            "text/plain": [
              "<Figure size 640x480 with 1 Axes>"
            ],
            "image/png": "[encoded data removed]"
          },
          "metadata": {}
        }
      ]
    },
    {
      "cell_type": "code",
      "source": [
        "from sklearn.metrics import r2_score\n",
        "\n",
        "# Calcular el valor R-squared\n",
        "r_squared = r2_score(y, y_pred)\n",
        "\n",
        "print(f\"Coeficiente de determinación R-squared: {r_squared}\")"
      ],
      "metadata": {
        "colab": {
          "base_uri": "https://localhost:8080/",
          "height": 0
        },
        "id": "xxmUC5W9D9h-",
        "outputId": "0a87f4ee-c6d0-498b-f5f0-7a85109f63f0"
      },
      "execution_count": 39,
      "outputs": [
        {
          "output_type": "stream",
          "name": "stdout",
          "text": [
            "Coeficiente de determinación R-squared: 0.9741436579013503\n"
          ]
        }
      ]
    },
    {
      "cell_type": "code",
      "source": [
        "#Aqui ya podemos ver que tenemos un nivel de confianza bastante aceptable en el que tenemos 97.41% de valor R2"
      ],
      "metadata": {
        "id": "8GKAsFk1BmzB"
      },
      "execution_count": 40,
      "outputs": []
    }
  ]
}
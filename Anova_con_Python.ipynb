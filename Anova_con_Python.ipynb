{
  "cells": [
    {
      "cell_type": "markdown",
      "metadata": {
        "id": "view-in-github",
        "colab_type": "text"
      },
      "source": [
        "<a href=\"https://colab.research.google.com/github/sebastianloaa/escuela/blob/main/Anova_con_Python.ipynb\" target=\"_parent\"><img src=\"https://colab.research.google.com/assets/colab-badge.svg\" alt=\"Open In Colab\"/></a>"
      ]
    },
    {
      "cell_type": "markdown",
      "id": "63709a07-e408-44d1-9008-e97718160361",
      "metadata": {
        "id": "63709a07-e408-44d1-9008-e97718160361"
      },
      "source": [
        "## ANOVA de un factor"
      ]
    },
    {
      "cell_type": "code",
      "execution_count": null,
      "id": "1e4dfa51-f20d-46f1-a29a-333c9e5c7d91",
      "metadata": {
        "tags": [],
        "id": "1e4dfa51-f20d-46f1-a29a-333c9e5c7d91"
      },
      "outputs": [],
      "source": [
        "import pandas as pd\n",
        "import numpy as np\n",
        "from statsmodels.formula.api import ols\n",
        "from statsmodels.stats.multicomp import pairwise_tukeyhsd\n",
        "import matplotlib.pyplot as plt\n",
        "import seaborn as sns"
      ]
    },
    {
      "cell_type": "markdown",
      "id": "a85fb266-4179-4bab-826c-2e63776584fc",
      "metadata": {
        "tags": [],
        "id": "a85fb266-4179-4bab-826c-2e63776584fc"
      },
      "source": [
        "### Los datos"
      ]
    },
    {
      "cell_type": "code",
      "execution_count": null,
      "id": "3ed336cc-0ec5-4986-918b-0c34a73fd50b",
      "metadata": {
        "tags": [],
        "id": "3ed336cc-0ec5-4986-918b-0c34a73fd50b"
      },
      "outputs": [],
      "source": [
        "tiempo = np.array([62, 60, 63, 59, 63, 67, 71, 64, 65, 66, 68, 66, 71, 67, 68, 68, 56, 62, 60, 61, 63, 64, 63, 59])\n",
        "tratamiento = np.array([\"A\", \"A\", \"A\", \"A\", \"B\", \"B\", \"B\", \"B\", \"B\", \"B\", \"C\", \"C\", \"C\", \"C\", \"C\", \"C\", \"D\", \"D\", \"D\", \"D\", \"D\", \"D\", \"D\", \"D\"])\n",
        "datos = pd.DataFrame({'tiempo': tiempo, 'tratamiento': tratamiento})"
      ]
    },
    {
      "cell_type": "markdown",
      "id": "25094077-d919-424b-bca3-31f03abd8922",
      "metadata": {
        "tags": [],
        "id": "25094077-d919-424b-bca3-31f03abd8922"
      },
      "source": [
        "### Las hipótesis"
      ]
    },
    {
      "cell_type": "markdown",
      "id": "0ae865f9-1af2-4c25-a23d-fba51f433b65",
      "metadata": {
        "tags": [],
        "id": "0ae865f9-1af2-4c25-a23d-fba51f433b65"
      },
      "source": [
        "$H_o: \\mu_i = \\mu_j$ donde $j>i$ para $i,j = 1, 2,3, 4$\n",
        "\n",
        "$H_1: \\mu_i \\neq \\mu_j$ para algún $i,j = 1, 2,3, 4$\n",
        "\n",
        "$\\alpha = 0.05$"
      ]
    },
    {
      "cell_type": "markdown",
      "id": "704e3bf4-62bd-4db9-9c70-ca00bfdfd18f",
      "metadata": {
        "id": "704e3bf4-62bd-4db9-9c70-ca00bfdfd18f"
      },
      "source": [
        "### ANOVA y Regresión lineal simple"
      ]
    },
    {
      "cell_type": "code",
      "execution_count": null,
      "id": "9f04398d-25e1-4203-8525-01b05450a2ef",
      "metadata": {
        "tags": [],
        "id": "9f04398d-25e1-4203-8525-01b05450a2ef"
      },
      "outputs": [],
      "source": [
        "model = ols('tiempo ~ C(tratamiento)', datos).fit()\n",
        "model.summary()"
      ]
    },
    {
      "cell_type": "markdown",
      "id": "25f26e1c-ae21-44a8-ba61-87148cdff7ca",
      "metadata": {
        "tags": [],
        "id": "25f26e1c-ae21-44a8-ba61-87148cdff7ca"
      },
      "source": [
        "El Estadístico de prueba F* = 13.57 y su valor p es 0.0000466, por lo que, hay evidencia suficiente para rechazar Ho y afirmar que existen por lo menos dos medias que difieren significativamente entere sí."
      ]
    },
    {
      "cell_type": "markdown",
      "id": "ce12139f-c0cb-4eb9-a277-1a13efde16fd",
      "metadata": {
        "id": "ce12139f-c0cb-4eb9-a277-1a13efde16fd"
      },
      "source": [
        "### Representación de los datos por tratamiento con Diagrama de Caja y bigote"
      ]
    },
    {
      "cell_type": "code",
      "execution_count": null,
      "id": "0046c26f-5b86-4943-a86c-72edfcd065f7",
      "metadata": {
        "tags": [],
        "id": "0046c26f-5b86-4943-a86c-72edfcd065f7"
      },
      "outputs": [],
      "source": [
        "# Boxplot\n",
        "datos.boxplot(column='tiempo', by='tratamiento', grid=False, patch_artist=True)\n",
        "plt.show()\n"
      ]
    },
    {
      "cell_type": "markdown",
      "id": "583348dc-04d9-4dcd-898b-23421b0401c1",
      "metadata": {
        "id": "583348dc-04d9-4dcd-898b-23421b0401c1"
      },
      "source": [
        "Del gráfico se puede observar que los diagrama de caja y bigote de tratamiento AD se traslapan, lo mismo que los tratamiento BC, ¿pero será significativo? La prueba de Tukey podría ayudar en esto.  "
      ]
    },
    {
      "cell_type": "markdown",
      "id": "937a20bf-af09-46c5-badf-701512b32c76",
      "metadata": {
        "id": "937a20bf-af09-46c5-badf-701512b32c76"
      },
      "source": [
        "**Complemento:** Otro gráfico de caja y bigote (que podría sustituir al anterior), pero con los datos sobrepuestos representados por puntos:"
      ]
    },
    {
      "cell_type": "code",
      "execution_count": null,
      "id": "1b13c9c5-ed95-4704-9b11-7892f0851038",
      "metadata": {
        "tags": [],
        "id": "1b13c9c5-ed95-4704-9b11-7892f0851038"
      },
      "outputs": [],
      "source": [
        "fig, ax = plt.subplots(1, 1, figsize=(8, 4))\n",
        "sns.boxplot(x=\"tratamiento\", y=\"tiempo\", data=datos, ax=ax)\n",
        "sns.swarmplot(x=\"tratamiento\", y=\"tiempo\", data=datos, color='black', alpha = 0.5, ax=ax);"
      ]
    },
    {
      "cell_type": "markdown",
      "id": "ea53be72-ce97-427b-a9dc-8812f33cd22c",
      "metadata": {
        "tags": [],
        "id": "ea53be72-ce97-427b-a9dc-8812f33cd22c"
      },
      "source": [
        "## Prueba de Tukey para las diferencias de medias"
      ]
    },
    {
      "cell_type": "markdown",
      "id": "e5e276d8-5d11-40e7-ba1e-65eef8839ae3",
      "metadata": {
        "id": "e5e276d8-5d11-40e7-ba1e-65eef8839ae3"
      },
      "source": [
        "La prueba de Tukye ofrece un resultado de diferencia de medias con un valor p ajustado"
      ]
    },
    {
      "cell_type": "code",
      "execution_count": null,
      "id": "45216ca4-fe89-4634-8706-d1879b9c5dc8",
      "metadata": {
        "tags": [],
        "id": "45216ca4-fe89-4634-8706-d1879b9c5dc8"
      },
      "outputs": [],
      "source": [
        "# Diferencias de medias (Tukey HSD)\n",
        "tukey_result = pairwise_tukeyhsd(endog=tiempo, groups=tratamiento, alpha=0.05)\n",
        "print(tukey_result)"
      ]
    },
    {
      "cell_type": "markdown",
      "id": "8a103340-5fec-4979-936c-77af32c95b87",
      "metadata": {
        "id": "8a103340-5fec-4979-936c-77af32c95b87"
      },
      "source": [
        "Gráfico de los resultados:"
      ]
    },
    {
      "cell_type": "code",
      "execution_count": null,
      "id": "49f3b294-b517-45bf-bd6e-5d62eb55d158",
      "metadata": {
        "tags": [],
        "id": "49f3b294-b517-45bf-bd6e-5d62eb55d158"
      },
      "outputs": [],
      "source": [
        "tukey_result.plot_simultaneous(comparison_name='D', ylabel='Tratamiento', xlabel='Diferencia de medias')\n",
        "plt.show()"
      ]
    },
    {
      "cell_type": "code",
      "execution_count": null,
      "id": "f2379e8d-e219-4979-8c7f-3f2b54ea8140",
      "metadata": {
        "id": "f2379e8d-e219-4979-8c7f-3f2b54ea8140"
      },
      "outputs": [],
      "source": [
        "# Por lo que podemos concluir que los tratamientos AD son similares, lo mismo BC, pero AC difieren significatibamente de BC, a un nivel de significación de 0.05."
      ]
    }
  ],
  "metadata": {
    "kernelspec": {
      "display_name": "Python 3 (ipykernel)",
      "language": "python",
      "name": "python3"
    },
    "language_info": {
      "codemirror_mode": {
        "name": "ipython",
        "version": 3
      },
      "file_extension": ".py",
      "mimetype": "text/x-python",
      "name": "python",
      "nbconvert_exporter": "python",
      "pygments_lexer": "ipython3",
      "version": "3.11.5"
    },
    "colab": {
      "provenance": [],
      "include_colab_link": true
    }
  },
  "nbformat": 4,
  "nbformat_minor": 5
}